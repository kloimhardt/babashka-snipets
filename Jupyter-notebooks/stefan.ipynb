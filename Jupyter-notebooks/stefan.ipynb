{
 "cells": [
  {
   "cell_type": "markdown",
   "id": "e15f7216-f6e5-4e58-bc9c-c6868f1be3ba",
   "metadata": {},
   "source": [
    "# Josef Stefan (1879): On the Relation between Heat Radiation and Temperature"
   ]
  },
  {
   "cell_type": "markdown",
   "id": "75a4fa37-3bf1-41b1-8a3b-2ad6d9c7d607",
   "metadata": {
    "jp-MarkdownHeadingCollapsed": true
   },
   "source": [
    "## Code Preamble"
   ]
  },
  {
   "cell_type": "code",
   "execution_count": 1,
   "id": "eb834ffa-764f-4f5c-8ef3-00d2bc53ca1e",
   "metadata": {},
   "outputs": [
    {
     "data": {
      "text/plain": [
       "#'user/_"
      ]
     },
     "execution_count": 1,
     "metadata": {},
     "output_type": "execute_result"
    }
   ],
   "source": [
    "(require '[clojupyter.misc.helper :as helper])\n",
    "(def _ (helper/add-dependencies '[org.mentat/emmy \"0.32.0\"]))\n",
    "(def _ (helper/add-dependencies '[org.scicloj/kindly  \"4-beta14\"]))"
   ]
  },
  {
   "cell_type": "code",
   "execution_count": 2,
   "id": "b0f5a2a4-398c-4caa-9a8c-98776f0f3baa",
   "metadata": {},
   "outputs": [
    {
     "name": "stderr",
     "output_type": "stream",
     "text": [
      "WARNING: abs already refers to: #'clojure.core/abs in namespace: clojure.math.numeric-tower, being replaced by: #'clojure.math.numeric-tower/abs\n"
     ]
    },
    {
     "data": {
      "text/plain": [
       "nil"
      ]
     },
     "execution_count": 2,
     "metadata": {},
     "output_type": "execute_result"
    }
   ],
   "source": [
    "(ns stefan\n",
    "    (:refer-clojure :exclude [+ - * / zero? compare divide numerator denominator infinite? abs ref partial =])\n",
    "    (:require [emmy.env :refer :all]\n",
    "              [clojure.math :as math]\n",
    "              [scicloj.kindly.v4.kind :as kind]))"
   ]
  },
  {
   "cell_type": "code",
   "execution_count": 3,
   "id": "4d77332f-ce46-407a-b4e0-4bf9c990a52c",
   "metadata": {},
   "outputs": [
    {
     "data": {
      "text/plain": [
       "#'stefan/round"
      ]
     },
     "execution_count": 3,
     "metadata": {},
     "output_type": "execute_result"
    }
   ],
   "source": [
    "(defn n-transpose [m]\n",
    "  (apply mapv vector m))\n",
    "\n",
    "(defn round [x dec]\n",
    "  (double (/ (math/round (* x (expt 10 dec))) (expt 10 dec))))"
   ]
  },
  {
   "cell_type": "code",
   "execution_count": 4,
   "id": "75fabb9b-9c59-4e65-9672-851bac7670f2",
   "metadata": {},
   "outputs": [
    {
     "data": {
      "text/plain": [
       "#'stefan/tex"
      ]
     },
     "execution_count": 4,
     "metadata": {},
     "output_type": "execute_result"
    }
   ],
   "source": [
    "(defn tex [exp & [prefix]]\n",
    "    (kind/tex (str \"$\" prefix (->TeX exp) \"$\")))"
   ]
  },
  {
   "cell_type": "markdown",
   "id": "29a6b67c-81ae-43f9-a387-d4ba6506d6e8",
   "metadata": {},
   "source": [
    "## Data and Calculation"
   ]
  },
  {
   "cell_type": "markdown",
   "id": "43ce5167-da57-43ad-b2a4-7a2b9751d610",
   "metadata": {},
   "source": [
    "For his 1879 analysis, Josef Stefan did not carry out own experiments. He analysed existing data. Here we focus on his analysis of the data by Dulong&Petit from 60 years earlier. ([link to Stefan's original paper](https://books.google.at/books?id=I9sDAAAAIAAJ&pg=PR2&dq=Sitzungsberichte+der+kaiserlichen+akademie+der+Wissenschaften+mathematisch+naturwissenschaftliche+Classe+neunundsiebzigster+band+1879&hl=en&newbks=1&newbks_redir=0&sa=X&ved=2ahUKEwiIttv4vomLAxUPPhAIHdeLIaoQ6AF6BAgGEAI#v=onepage&q=Sitzungsberichte%20der%20kaiserlichen%20akademie%20der%20Wissenschaften%20mathematisch%20naturwissenschaftliche%20Classe%20neunundsiebzigster%20band%201879&f=false) \"Sitzungsberichte der Kaiserlichen Akademie der Wissenschaften.Volume 79, Parts 2-3\", p391)\n",
    "\n",
    "Dulong and Petit placed a heated mercury-in-glass thermometer with a spherical bulb centrally in a spherical enclosure held at (Celsius) temperature zero. Then they noted the rate of change of the temperature with time.\n",
    "\n",
    "In the following I state the D&P values, as given by Stefan based on their publication from 1817."
   ]
  },
  {
   "cell_type": "markdown",
   "id": "e14bd8f0-69d0-40ec-8c5f-849a8a94c975",
   "metadata": {},
   "source": [
    "Temperature in degree Celsius (°C)"
   ]
  },
  {
   "cell_type": "code",
   "execution_count": 5,
   "id": "b8e7b165-310f-4a08-91b0-e266a5f9bc4a",
   "metadata": {
    "jupyter": {
     "source_hidden": true
    }
   },
   "outputs": [
    {
     "data": {
      "text/html": [
       "<table><thead><tr></tr></thead><tbody><tr><td>80</td><td>100</td><td>120</td><td>140</td><td>160</td><td>180</td><td>200</td><td>220</td><td>240</td></tr></tbody></table>"
      ]
     },
     "execution_count": 5,
     "metadata": {},
     "output_type": "execute_result"
    }
   ],
   "source": [
    "\n",
    "(def temper \n",
    "    [80 100 120 140 160 180 200 220 240])\n",
    "(kind/table {:row-vectors [temper]})"
   ]
  },
  {
   "cell_type": "markdown",
   "id": "2d0fb1c2-d0ca-4e31-ac85-095ef1ace663",
   "metadata": {},
   "source": [
    "Rate of change of the temperature, given in °C per minute."
   ]
  },
  {
   "cell_type": "code",
   "execution_count": 6,
   "id": "f86d8f44-5779-44be-bb5d-5dd1dfee3a1f",
   "metadata": {
    "jupyter": {
     "source_hidden": true
    }
   },
   "outputs": [
    {
     "data": {
      "text/html": [
       "<table><thead><tr></tr></thead><tbody><tr><td>1.74</td><td>2.3</td><td>3.02</td><td>3.88</td><td>4.89</td><td>6.1</td><td>7.4</td><td>8.81</td><td>10.69</td></tr></tbody></table>"
      ]
     },
     "execution_count": 6,
     "metadata": {},
     "output_type": "execute_result"
    }
   ],
   "source": [
    "\n",
    "(def dp-meas \n",
    "    [1.74 2.30 3.02 3.88 4.89 6.10 7.40 8.81 10.69])\n",
    "(kind/table {:row-vectors [dp-meas]})"
   ]
  },
  {
   "cell_type": "markdown",
   "id": "8296d400-b323-4f8d-ab86-ba7f1f916f6d",
   "metadata": {},
   "source": [
    "### The old formula given by Dulong and Petit"
   ]
  },
  {
   "cell_type": "markdown",
   "id": "839d2954-9361-418d-bb7a-0babcd22b84e",
   "metadata": {},
   "source": [
    "The rate of change of temperature, R [°C/min], is given by the following formula:"
   ]
  },
  {
   "cell_type": "code",
   "execution_count": 7,
   "id": "e4369ce9-8aa2-42ba-a58b-17ca63229b81",
   "metadata": {
    "jupyter": {
     "source_hidden": true
    }
   },
   "outputs": [
    {
     "data": {
      "text/latex": [
       "$R(t)=M\\,\\left({A}^{t} - 1\\right)$"
      ]
     },
     "execution_count": 7,
     "metadata": {},
     "output_type": "execute_result"
    }
   ],
   "source": [
    "\n",
    "(defn dpf [A M] \n",
    "    (fn [t] \n",
    "        (* M (- (expt A t) 1))))\n",
    "\n",
    "(defn dp-formel [Celsius]\n",
    "    (let [t Celsius\n",
    "          A 1.0077\n",
    "          M 2.02]\n",
    "         ((dpf A M) t)))\n",
    "\n",
    "(tex ((dpf 'A 'M) 't) \"R(t)=\")"
   ]
  },
  {
   "cell_type": "markdown",
   "id": "843bdbbc-053c-48bd-a320-4209d3c5f644",
   "metadata": {},
   "source": [
    "* t ... Temperature of mercury in degree Celsius\n",
    "* A ... Constant, independent of material, given by D&P as 1.0077\n",
    "* M ... Material dependent number (see text)"
   ]
  },
  {
   "cell_type": "markdown",
   "id": "a5bf6ea1-8640-43bf-bdba-cd5b7a14bce9",
   "metadata": {},
   "source": [
    "According to D&P, the number $A$ is a constant independent of the material while the number M depends on the material. Below are the calculated values as stated by Dulong and Petit. They supposedly used the above formula."
   ]
  },
  {
   "cell_type": "code",
   "execution_count": 8,
   "id": "1a611f32-08c3-47b3-9131-d70001be8af1",
   "metadata": {
    "jupyter": {
     "source_hidden": true
    }
   },
   "outputs": [
    {
     "data": {
      "text/html": [
       "<table><thead><tr></tr></thead><tbody><tr><td>1.72</td><td>2.33</td><td>3.05</td><td>3.89</td><td>4.87</td><td>6.03</td><td>7.34</td><td>8.89</td><td>10.68</td></tr></tbody></table>"
      ]
     },
     "execution_count": 8,
     "metadata": {},
     "output_type": "execute_result"
    }
   ],
   "source": [
    "\n",
    "(def dp-theor \n",
    "    [1.72 2.33 3.05 3.89 4.87 6.03 7.34 8.89 10.68])\n",
    "(kind/table {:row-vectors [dp-theor]})"
   ]
  },
  {
   "cell_type": "markdown",
   "id": "65462a40-5b96-4a07-93cb-b86fc8601cde",
   "metadata": {},
   "source": [
    "I could not find any value for M in the paper by Stefan, so I chose M to best match the calculation by D&P. That does not work perfetly, but is close enough as shown below. The difference between measurement and calculation is of the order 0.05 °C/min (third column). The last column is my calculation using M=2.02."
   ]
  },
  {
   "cell_type": "code",
   "execution_count": 9,
   "id": "36b22377-3182-406a-9dd5-6e79e49eacf8",
   "metadata": {
    "jupyter": {
     "source_hidden": true
    },
    "scrolled": true
   },
   "outputs": [
    {
     "data": {
      "text/html": [
       "<table><thead><tr>Temperature | Measurement | Correction | D&P Calculation | My Calculation</tr></thead><tbody><tr><td>80</td><td>1.74</td><td>-0.02</td><td>1.72</td><td>1.71</td></tr><tr><td>100</td><td>2.3</td><td>0.03</td><td>2.33</td><td>2.33</td></tr><tr><td>120</td><td>3.02</td><td>0.03</td><td>3.05</td><td>3.05</td></tr><tr><td>140</td><td>3.88</td><td>0.01</td><td>3.89</td><td>3.89</td></tr><tr><td>160</td><td>4.89</td><td>-0.02</td><td>4.87</td><td>4.87</td></tr><tr><td>180</td><td>6.1</td><td>-0.07</td><td>6.03</td><td>6.01</td></tr><tr><td>200</td><td>7.4</td><td>-0.06</td><td>7.34</td><td>7.35</td></tr><tr><td>220</td><td>8.81</td><td>0.08</td><td>8.89</td><td>8.9</td></tr><tr><td>240</td><td>10.69</td><td>-0.01</td><td>10.68</td><td>10.71</td></tr></tbody></table>"
      ]
     },
     "execution_count": 9,
     "metadata": {},
     "output_type": "execute_result"
    }
   ],
   "source": [
    "\n",
    "(def tb2 \n",
    "    (map (fn [[T m t]]\n",
    "                [T m (round (- t m) 2) t (round (dp-formel T) 2)])\n",
    "              (n-transpose [temper dp-meas dp-theor])))\n",
    "\n",
    "(kind/table {:column-names [\"Temperature | \", \"Measurement | \", \n",
    "                            \"Correction | \", \n",
    "                            \"D&P Calculation | \" , \"My Calculation\"] \n",
    "             :row-vectors tb2})"
   ]
  },
  {
   "cell_type": "markdown",
   "id": "067f180c-f65c-430a-827b-9c3eaa41e788",
   "metadata": {},
   "source": [
    "### Stefan's $T^4$ power law"
   ]
  },
  {
   "cell_type": "markdown",
   "id": "b6d9fef5-d06a-4494-a084-3a4f333dc769",
   "metadata": {},
   "source": [
    "The new formula given by Stefan is:"
   ]
  },
  {
   "cell_type": "code",
   "execution_count": 10,
   "id": "a02bf1c8-69c6-4457-a947-8b4197478b89",
   "metadata": {
    "jupyter": {
     "source_hidden": true
    }
   },
   "outputs": [
    {
     "data": {
      "text/latex": [
       "$R(t)=B\\,\\left({\\left(T + t\\right)}^{4} - {T}^{4}\\right)$"
      ]
     },
     "execution_count": 10,
     "metadata": {},
     "output_type": "execute_result"
    }
   ],
   "source": [
    "\n",
    "(defn sf [T B]\n",
    "    (fn [t]\n",
    "        (* B (- (expt (+ T t) 4) (expt T 4)))))\n",
    "\n",
    "(def B (/ 1 (* 6 (expt 10 9))))\n",
    "(def T 273)\n",
    "\n",
    "(defn stefan-formel [t] ((sf T B) t))\n",
    "    \n",
    "(tex ((sf 'T 'B) 't) \"R(t)=\")"
   ]
  },
  {
   "cell_type": "markdown",
   "id": "3275fbe0-7fc9-47f7-bc5a-a7f653b087b3",
   "metadata": {},
   "source": [
    "Above: the famous power law given by Stefan\n",
    "* t ... Temperature of mercury in degree Celsius\n",
    "* T ... Number relating 0°C to absolute zero temperature, i.e. plus 273 degrees\n",
    "* B ... One sixth billion, heuristic factor given by Stefan "
   ]
  },
  {
   "cell_type": "markdown",
   "id": "74080a61-344b-478e-ae71-a6e67a8fc3bc",
   "metadata": {},
   "source": [
    "The factors in the D&P formula were close to 1. In contrast, the numbers in the new power law are huge. I suspect this as one reason why noone before Stefan made an attempt. Lets looks at the magnitudes, remember no computers in 1879. Would you do the Stefan formula by hand?"
   ]
  },
  {
   "cell_type": "code",
   "execution_count": 11,
   "id": "58e046d3-1971-4123-871b-68ebf701c0aa",
   "metadata": {
    "jupyter": {
     "source_hidden": true
    },
    "scrolled": true
   },
   "outputs": [
    {
     "data": {
      "text/html": [
       "<table><thead><tr></tr></thead><tbody><tr><td>B</td><td>1/6000000000</td></tr><tr><td>T^4</td><td>5554571841</td></tr><tr><td>(T + 100)^4</td><td>19356878641</td></tr></tbody></table>"
      ]
     },
     "execution_count": 11,
     "metadata": {},
     "output_type": "execute_result"
    }
   ],
   "source": [
    "\n",
    "(kind/table \n",
    " {:row-vectors\n",
    "  [[\"B\" B] [\"T^4\" (expt T 4)] [\"(T + 100)^4\" (expt (+ T 100) 4)]]})"
   ]
  },
  {
   "cell_type": "markdown",
   "id": "8cd3b57c-bdf2-45d5-b038-2fe10fd4825d",
   "metadata": {},
   "source": [
    "Below are the calculated values as stated by Stefan. They match exactly my (computer-) calculations using his formula, i.e. subtracting huge numbers to get numbers of magnitude 10."
   ]
  },
  {
   "cell_type": "code",
   "execution_count": 12,
   "id": "9926efa7-8253-4d44-b622-582df9848c1a",
   "metadata": {},
   "outputs": [
    {
     "data": {
      "text/html": [
       "<table><thead><tr></tr></thead><tbody><tr><td>1.66</td><td>2.3</td><td>3.05</td><td>3.92</td><td>4.93</td><td>6.09</td><td>7.42</td><td>8.92</td><td>10.62</td></tr></tbody></table>"
      ]
     },
     "execution_count": 12,
     "metadata": {},
     "output_type": "execute_result"
    }
   ],
   "source": [
    "\n",
    "(def st-theor \n",
    "    [1.66 2.30 3.05 3.92 4.93 6.09 7.42 8.92 10.62])\n",
    "(kind/table {:row-vectors [st-theor]})"
   ]
  },
  {
   "cell_type": "markdown",
   "id": "6f5f9601-87fc-4eff-8e88-ea9ede526398",
   "metadata": {},
   "source": [
    "Finally, the comparison of Stefan's theoretical values to measurement. The error-margin is the same as for D&P before, of magintude 0.05"
   ]
  },
  {
   "cell_type": "code",
   "execution_count": 13,
   "id": "0c8d352e-7c56-49d7-8ff4-c92d60985262",
   "metadata": {
    "jupyter": {
     "source_hidden": true
    },
    "scrolled": true
   },
   "outputs": [
    {
     "data": {
      "text/html": [
       "<table><thead><tr>Temperature | Measurement | Stafan Calculation | My Calculation</tr></thead><tbody><tr><td>80</td><td>1.74</td><td>-0.08</td><td>1.66</td><td>1.66</td></tr><tr><td>100</td><td>2.3</td><td>0.0</td><td>2.3</td><td>2.3</td></tr><tr><td>120</td><td>3.02</td><td>0.03</td><td>3.05</td><td>3.05</td></tr><tr><td>140</td><td>3.88</td><td>0.04</td><td>3.92</td><td>3.92</td></tr><tr><td>160</td><td>4.89</td><td>0.04</td><td>4.93</td><td>4.93</td></tr><tr><td>180</td><td>6.1</td><td>-0.01</td><td>6.09</td><td>6.09</td></tr><tr><td>200</td><td>7.4</td><td>0.02</td><td>7.42</td><td>7.42</td></tr><tr><td>220</td><td>8.81</td><td>0.11</td><td>8.92</td><td>8.92</td></tr><tr><td>240</td><td>10.69</td><td>-0.07</td><td>10.62</td><td>10.62</td></tr></tbody></table>"
      ]
     },
     "execution_count": 13,
     "metadata": {},
     "output_type": "execute_result"
    }
   ],
   "source": [
    "\n",
    "(def tb7 \n",
    "    (map (fn [[T m st-t]]\n",
    "                [T m (round (- st-t m) 2) st-t\n",
    "                 (round (stefan-formel T) 2)])\n",
    "              (n-transpose [temper dp-meas st-theor])))\n",
    "\n",
    "(kind/table {:column-names [\"Temperature | \", \"Measurement | \",  \n",
    "                            \"Stafan Calculation | \",\n",
    "                            \"My Calculation\"] \n",
    "             :row-vectors tb7})\n"
   ]
  },
  {
   "cell_type": "markdown",
   "id": "07a0826d-1cc7-4ea9-b114-12bb9ee8438e",
   "metadata": {},
   "source": [
    "The advantage of this new formula was a more accurate estimation of the temperature of the sun. The prevailing value at that time, the 1500°C calculated with the D&P formula, was already then suspected to be too low. Indeed the old formula had no value for high temperatures. Today's value is 5800°C, a value which is within the new estimations done by Stefan using his formula."
   ]
  }
 ],
 "metadata": {
  "kernelspec": {
   "display_name": "Clojure (clojupyter-0.5.384)",
   "language": "clojure",
   "name": "clojupyter-0.5.384"
  },
  "language_info": {
   "file_extension": ".clj",
   "mimetype": "text/x-clojure",
   "name": "clojure",
   "version": "1.12.0"
  }
 },
 "nbformat": 4,
 "nbformat_minor": 5
}
