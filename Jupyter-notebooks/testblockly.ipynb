{
 "cells": [
  {
   "cell_type": "code",
   "execution_count": null,
   "id": "11af695d-a45e-4d89-8b5a-3f25449609c2",
   "metadata": {},
   "outputs": [],
   "source": [
    "1 + 1\n",
    "\n",
    "#<xml xmlns=\"https://developers.google.com/blockly/xml\"><block type=\"math_arithmetic\" id=\"~Rz6fgM6|_PEN8Bv]{G^\" x=\"218\" y=\"104\"><field name=\"OP\">ADD</field><value name=\"A\"><shadow type=\"math_number\" id=\"lAj{b-e4?LE6GY%~M0uQ\"><field name=\"NUM\">1</field></shadow></value><value name=\"B\"><shadow type=\"math_number\" id=\"E69g#-gz}mLibm|(uPw_\"><field name=\"NUM\">1</field></shadow></value></block></xml>"
   ]
  },
  {
   "cell_type": "code",
   "execution_count": null,
   "id": "747de348-43db-4b6b-a9ea-056ed2338320",
   "metadata": {},
   "outputs": [],
   "source": [
    "%%html\n",
    "<script src=\"https://kloimhardt.github.io/twotiles/twotiles_core.js\"></script>"
   ]
  },
  {
   "cell_type": "code",
   "execution_count": null,
   "id": "c4d9c680-940a-45bf-bb46-f13ae31152ac",
   "metadata": {},
   "outputs": [],
   "source": [
    "%%html\n",
    "<script>\n",
    "klmw.defineBlocksWithJsonArray(twotiles.blocks);\n",
    "</script>"
   ]
  },
  {
   "cell_type": "code",
   "execution_count": null,
   "id": "0dd80cec-19a2-4bf7-ae3e-dce39cdad9b7",
   "metadata": {},
   "outputs": [],
   "source": [
    "from sympy import symbols,diff,log\n",
    "from functools import partial\n",
    "x=symbols(\"x\")\n",
    "b=symbols(\"b\")\n",
    "y=symbols(\"y\")"
   ]
  },
  {
   "cell_type": "code",
   "execution_count": null,
   "id": "253c680f-4c38-49ef-8f02-3275952034d9",
   "metadata": {},
   "outputs": [],
   "source": [
    "def call(f, x):\n",
    "    return f(x)"
   ]
  },
  {
   "cell_type": "code",
   "execution_count": null,
   "id": "5191f009-2228-48a7-afeb-be4b01690f5f",
   "metadata": {},
   "outputs": [],
   "source": [
    "log(64.0)\n",
    "\n",
    "# <xml><block id=\"funs-h-2-inp-10-10\" type=\"funs-h-2-inp\" x=\"100\" y=\"200\"><field name=\"kopf\">log</field><value name=\"args-2\"><block id=\"num2-funs-h-2-inp-10-10\" type=\"num\"><field name=\"nummer\">64.0</field></block></value></block></xml>"
   ]
  },
  {
   "cell_type": "code",
   "execution_count": null,
   "id": "2a100500-e2e9-4390-80ae-a54ddb875e4b",
   "metadata": {},
   "outputs": [],
   "source": [
    "diff(log(x),x)\n",
    "\n",
    "# <xml><block id=\"funs-h-3-inp-10-10\" type=\"funs-h-3-inp\" x=\"100\" y=\"200\"><field name=\"kopf\">diff</field><value name=\"args-2\"><block id=\"funs-h-2-inp2-funs-h-3-inp-10-10\" type=\"funs-h-2-inp\"><field name=\"kopf\">log</field><value name=\"args-2\"><block id=\"num2-funs-h-2-inp2-funs-h-3-inp-10-10\" type=\"num\"><field name=\"nummer\">x</field></block></value></block></value><value name=\"args-3\"><block id=\"num3-funs-h-3-inp-10-10\" type=\"num\"><field name=\"nummer\">x</field></block></value></block></xml>"
   ]
  },
  {
   "cell_type": "code",
   "execution_count": null,
   "id": "42ceb88a-d957-4b0b-8f58-125096b1b01b",
   "metadata": {},
   "outputs": [],
   "source": [
    "def logarithm(b, x):\n",
    "    return log(x) / log(b)\n",
    "\n",
    "# <xml><block id=\"funs-h-3-inp-10-10\" inline=\"false\" type=\"funs-h-3-inp\" x=\"100\" y=\"200\"><field name=\"kopf\">def</field><value name=\"args-2\"><block id=\"funs-h-3-inp2-funs-h-3-inp-10-10\" type=\"funs-h-3-inp\"><field name=\"kopf\">logarithm</field><value name=\"args-2\"><block id=\"num2-funs-h-3-inp2-funs-h-3-inp-10-10\" type=\"num\"><field name=\"nummer\">b</field></block></value><value name=\"args-3\"><block id=\"num3-funs-h-3-inp2-funs-h-3-inp-10-10\" type=\"num\"><field name=\"nummer\">x</field></block></value></block></value><value name=\"args-3\"><block id=\"funs-h-2-inp3-funs-h-3-inp-10-10\" type=\"funs-h-2-inp\"><field name=\"kopf\">return</field><value name=\"args-2\"><block id=\"infi-h-3-inp2-funs-h-2-inp3-funs-h-3-inp-10-10\" type=\"infi-h-3-inp\"><field name=\"kopf\">/</field><value name=\"args-2\"><block id=\"funs-h-2-inp2-infi-h-3-inp2-funs-h-2-inp3-funs-h-3-inp-10-10\" type=\"funs-h-2-inp\"><field name=\"kopf\">log</field><value name=\"args-2\"><block id=\"num2-funs-h-2-inp2-infi-h-3-inp2-funs-h-2-inp3-funs-h-3-inp-10-10\" type=\"num\"><field name=\"nummer\">x</field></block></value></block></value><value name=\"args-3\"><block id=\"funs-h-2-inp3-infi-h-3-inp2-funs-h-2-inp3-funs-h-3-inp-10-10\" type=\"funs-h-2-inp\"><field name=\"kopf\">log</field><value name=\"args-2\"><block id=\"num2-funs-h-2-inp3-infi-h-3-inp2-funs-h-2-inp3-funs-h-3-inp-10-10\" type=\"num\"><field name=\"nummer\">b</field></block></value></block></value></block></value></block></value></block></xml>"
   ]
  },
  {
   "cell_type": "code",
   "execution_count": null,
   "id": "249eb950-a272-49b7-a5bd-19fb0f12be59",
   "metadata": {},
   "outputs": [],
   "source": [
    "logarithm(8.0, 64.0)\n",
    "\n",
    "# <xml><block id=\"funs-h-3-inp-10-10\" type=\"funs-h-3-inp\" x=\"100\" y=\"200\"><field name=\"kopf\">logarithm</field><value name=\"args-2\"><block id=\"num2-funs-h-3-inp-10-10\" type=\"num\"><field name=\"nummer\">8.0</field></block></value><value name=\"args-3\"><block id=\"num3-funs-h-3-inp-10-10\" type=\"num\"><field name=\"nummer\">64.0</field></block></value></block></xml>"
   ]
  },
  {
   "cell_type": "code",
   "execution_count": null,
   "id": "d7882059-7ce3-4f9f-930b-b942fa38d63f",
   "metadata": {},
   "outputs": [],
   "source": [
    "def log_base(b):\n",
    "    return partial(logarithm, b)\n",
    "\n",
    "# <xml><block id=\"funs-h-3-inp-10-10\" inline=\"false\" type=\"funs-h-3-inp\" x=\"100\" y=\"200\"><field name=\"kopf\">def</field><value name=\"args-2\"><block id=\"funs-h-2-inp2-funs-h-3-inp-10-10\" type=\"funs-h-2-inp\"><field name=\"kopf\">log_base</field><value name=\"args-2\"><block id=\"num2-funs-h-2-inp2-funs-h-3-inp-10-10\" type=\"num\"><field name=\"nummer\">b</field></block></value></block></value><value name=\"args-3\"><block id=\"funs-h-2-inp3-funs-h-3-inp-10-10\" type=\"funs-h-2-inp\"><field name=\"kopf\">return</field><value name=\"args-2\"><block id=\"funs-h-3-inp2-funs-h-2-inp3-funs-h-3-inp-10-10\" type=\"funs-h-3-inp\"><field name=\"kopf\">partial</field><value name=\"args-2\"><block id=\"num2-funs-h-3-inp2-funs-h-2-inp3-funs-h-3-inp-10-10\" type=\"num\"><field name=\"nummer\">logarithm</field></block></value><value name=\"args-3\"><block id=\"num3-funs-h-3-inp2-funs-h-2-inp3-funs-h-3-inp-10-10\" type=\"num\"><field name=\"nummer\">b</field></block></value></block></value></block></value></block></xml>"
   ]
  },
  {
   "cell_type": "code",
   "execution_count": null,
   "id": "22c96e08-4912-42ac-ba9f-1015ff58fd46",
   "metadata": {},
   "outputs": [],
   "source": [
    "call(log_base(8.0),64.0)\n",
    "\n",
    "# <xml><block id=\"funs-h-3-inp-10-10\" type=\"funs-h-3-inp\" x=\"100\" y=\"200\"><field name=\"kopf\">call</field><value name=\"args-2\"><block id=\"funs-h-2-inp2-funs-h-3-inp-10-10\" type=\"funs-h-2-inp\"><field name=\"kopf\">log_base</field><value name=\"args-2\"><block id=\"num2-funs-h-2-inp2-funs-h-3-inp-10-10\" type=\"num\"><field name=\"nummer\">8.0</field></block></value></block></value><value name=\"args-3\"><block id=\"num3-funs-h-3-inp-10-10\" type=\"num\"><field name=\"nummer\">64.0</field></block></value></block></xml>"
   ]
  },
  {
   "cell_type": "code",
   "execution_count": null,
   "id": "6f787fe5-cd00-492e-89cd-3c20c3f5c3b4",
   "metadata": {},
   "outputs": [],
   "source": [
    "diff(call(log_base(8.0),x),x)\n",
    "\n",
    "# <xml><block id=\"funs-h-3-inp-10-10\" type=\"funs-h-3-inp\" x=\"100\" y=\"200\"><field name=\"kopf\">diff</field><value name=\"args-2\"><block id=\"funs-h-3-inp2-funs-h-3-inp-10-10\" type=\"funs-h-3-inp\"><field name=\"kopf\">call</field><value name=\"args-2\"><block id=\"funs-h-2-inp2-funs-h-3-inp2-funs-h-3-inp-10-10\" type=\"funs-h-2-inp\"><field name=\"kopf\">log_base</field><value name=\"args-2\"><block id=\"num2-funs-h-2-inp2-funs-h-3-inp2-funs-h-3-inp-10-10\" type=\"num\"><field name=\"nummer\">8.0</field></block></value></block></value><value name=\"args-3\"><block id=\"num3-funs-h-3-inp2-funs-h-3-inp-10-10\" type=\"num\"><field name=\"nummer\">x</field></block></value></block></value><value name=\"args-3\"><block id=\"num3-funs-h-3-inp-10-10\" type=\"num\"><field name=\"nummer\">x</field></block></value></block></xml>"
   ]
  },
  {
   "cell_type": "code",
   "execution_count": null,
   "id": "b059cfe7-4a10-4109-baa8-c2f43b2ea9af",
   "metadata": {},
   "outputs": [],
   "source": [
    "\"Emmy\"\n",
    "# <xml><block id=\"funs-h-3-inp-10-10\" type=\"funs-h-3-inp\" x=\"100\" y=\"200\"><field name=\"kopf\">call</field><value name=\"args-2\"><block id=\"funs-h-2-inp2-funs-h-3-inp-10-10\" type=\"funs-h-2-inp\"><field name=\"kopf\">diff</field><value name=\"args-2\"><block id=\"funs-h-2-inp2-funs-h-2-inp2-funs-h-3-inp-10-10\" type=\"funs-h-2-inp\"><field name=\"kopf\">log_base</field><value name=\"args-2\"><block id=\"num2-funs-h-2-inp2-funs-h-2-inp2-funs-h-3-inp-10-10\" type=\"num\"><field name=\"nummer\">8.0</field></block></value></block></value></block></value><value name=\"args-3\"><block id=\"num3-funs-h-3-inp-10-10\" type=\"num\"><field name=\"nummer\">x</field></block></value></block></xml>"
   ]
  },
  {
   "cell_type": "code",
   "execution_count": null,
   "id": "363de610-fdf3-439e-a2ab-4ec3b9344560",
   "metadata": {},
   "outputs": [],
   "source": []
  }
 ],
 "metadata": {
  "kernelspec": {
   "display_name": "Python 3 (ipykernel)",
   "language": "python",
   "name": "python3"
  },
  "language_info": {
   "codemirror_mode": {
    "name": "ipython",
    "version": 3
   },
   "file_extension": ".py",
   "mimetype": "text/x-python",
   "name": "python",
   "nbconvert_exporter": "python",
   "pygments_lexer": "ipython3",
   "version": "3.13.3"
  }
 },
 "nbformat": 4,
 "nbformat_minor": 5
}
