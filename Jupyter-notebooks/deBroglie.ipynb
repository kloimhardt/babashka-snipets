{
 "cells": [
  {
   "cell_type": "markdown",
   "id": "142a4763-e71f-4756-895d-66d42d9cd95c",
   "metadata": {},
   "source": [
    "# Louis de Broglie and the world’s most important PhD thesis"
   ]
  },
  {
   "cell_type": "markdown",
   "id": "34d341f7-6aa0-47bf-b4c8-131380b85973",
   "metadata": {},
   "source": [
    "Louis de Broglie began by assigning an extremely small mass to the photon, so that while this implied that the velocity of the light varied with its frequency, the mass was so small that the deviation from c would remain undetectable. This assumption is not really necessary, but we will follow de Broglie in order to see how his thinking developed. In a way that was perhaps fortuitous, this assumption meant that it was just a small step to apply these ideas to\n",
    "massive particles."
   ]
  },
  {
   "cell_type": "markdown",
   "id": "9626b6b2-7f8f-4c2f-8f58-b7e0282f3fff",
   "metadata": {},
   "source": [
    "## Code Preamble"
   ]
  },
  {
   "cell_type": "code",
   "execution_count": null,
   "id": "9568fc92-1d1c-43c3-ba92-2591156a2d59",
   "metadata": {},
   "outputs": [],
   "source": [
    "(ns de-broglie\n",
    "    (:refer-clojure :exclude [+ - * / zero? compare divide numerator denominator infinite? abs ref partial = time])\n",
    "    (:require [emmy.env :refer :all]\n",
    "              [scicloj.kindly.v4.kind :as kind]))"
   ]
  },
  {
   "cell_type": "code",
   "execution_count": null,
   "id": "fed0ea70-8cfa-4c62-9b31-c194e0fa856e",
   "metadata": {},
   "outputs": [],
   "source": [
    "  (defn walk [inner outer form]\n",
    "    (cond\n",
    "      (list? form) (outer (apply list (map inner form)))\n",
    "      (seq? form)  (outer (doall (map inner form)))\n",
    "      (coll? form) (outer (into (empty form) (map inner form)))\n",
    "      :else        (outer form)))\n",
    "  (defn postwalk [f form]\n",
    "    (walk (partial postwalk f) f form))\n",
    "  (defn postwalk-replace [smap form]\n",
    "    (postwalk (fn [x] (if (contains? smap x) (smap x) x)) form))\n",
    "  (defmacro let-scheme [b & e]\n",
    "    (concat (list 'let (into [] (apply concat b))) e))\n",
    "  (defmacro define-1 [h & b]\n",
    "    (let [body (postwalk-replace {'let 'let-scheme} b)]\n",
    "      (if (coll? h)\n",
    "        (if (coll? (first h))\n",
    "          (list 'defn (ffirst h) (into [] (rest (first h)))\n",
    "                (concat (list 'fn (into [] (rest h))) body))\n",
    "          (concat (list 'defn (first h) (into [] (rest h)))\n",
    "                  body))\n",
    "        (concat (list 'def h) body))))\n",
    "  (defmacro define [h & b]\n",
    "    (if (and (coll? h) (= (first h) 'tex-inspect))\n",
    "      (list 'do\n",
    "            (concat ['define-1 (second h)] b)\n",
    "            h)\n",
    "      (concat ['define-1 h] b)))\n",
    "  (defmacro lambda [h b]\n",
    "    (list 'fn (into [] h) b))\n",
    "  (def show-expression simplify)\n",
    "  (def velocities velocity)\n",
    "  (def coordinates coordinate)\n",
    "  (def vector-length count)\n",
    "  (defn time [state] (first state))"
   ]
  },
  {
   "cell_type": "code",
   "execution_count": null,
   "id": "871ded4d-d85f-424d-b79d-9a5daa189bf3",
   "metadata": {},
   "outputs": [],
   "source": [
    "(defn texv [coll]\n",
    "    (->>\n",
    "        (map (fn [e] (->TeX e)) coll)\n",
    "        (interpose \" = \")\n",
    "        (apply str)\n",
    "        (#(str \"$\" % \"$\"))\n",
    "        (kind/tex)))"
   ]
  },
  {
   "cell_type": "code",
   "execution_count": null,
   "id": "5ad488a2-1668-4b0c-afc8-15a211e934e8",
   "metadata": {},
   "outputs": [],
   "source": [
    "(defn texvv [coll1 coll2]\n",
    "    (let [ok (map (fn [x y] (zero? (simplify (- x y)))) coll1 coll2)]\n",
    "    (if (every? true? ok)\n",
    "        (texv coll1)\n",
    "        (doall ok))))"
   ]
  },
  {
   "cell_type": "code",
   "execution_count": null,
   "id": "69c576f8-18b3-43f3-ae7a-200a0520709b",
   "metadata": {},
   "outputs": [],
   "source": [
    "(defn solves [prefix exp2 fun]\n",
    "    (if (zero? (simplify (fun exp2)))\n",
    "        (texv (up prefix exp2))\n",
    "        \"no root\"))"
   ]
  },
  {
   "cell_type": "markdown",
   "id": "d8589026-840d-4c8d-a599-68b593ce76fd",
   "metadata": {},
   "source": [
    "## Particles accompanied by oscillatory phenomena"
   ]
  },
  {
   "cell_type": "markdown",
   "id": "628af841-36b8-4189-8b0f-b092a356d67f",
   "metadata": {},
   "source": [
    "A photon of mass m would have a rest energy of $mc^2$."
   ]
  },
  {
   "cell_type": "code",
   "execution_count": null,
   "id": "8a8e7718-227c-478b-aa03-57dbd06bdf96",
   "metadata": {},
   "outputs": [],
   "source": [
    "(define (E0 m) (* m (expt 'c 2)))\n",
    "\n",
    "(texv (up 'E_0 (E0 'm)))"
   ]
  },
  {
   "cell_type": "markdown",
   "id": "a1f385b5-a6b8-4409-8500-be5a4a87c609",
   "metadata": {},
   "source": [
    "This should be associated with some kind of periodic vibration of frequency $\\nu_0 = mc^2/h$."
   ]
  },
  {
   "cell_type": "code",
   "execution_count": null,
   "id": "3047a79d-e3f9-40e8-b52b-1396978fab17",
   "metadata": {},
   "outputs": [],
   "source": [
    "(define (nu_0 E0) (/ E0 'h))\n",
    "\n",
    "(texv (up 'nu_0 (nu_0 (E0 'm))))"
   ]
  },
  {
   "cell_type": "markdown",
   "id": "1e6b3d9a-d646-49d7-8784-ecd8ba3d9782",
   "metadata": {},
   "source": [
    "In a frame in which the photon was moving with velocity v = βc (lab frame),"
   ]
  },
  {
   "cell_type": "code",
   "execution_count": null,
   "id": "73940206-f076-40db-bba4-9cd141aa9ec6",
   "metadata": {},
   "outputs": [],
   "source": [
    "(define (v beta) (* beta 'c))\n",
    "(define (sqr beta) (expt beta 2))\n",
    "(define (sqrt-beta beta) (expt (- 1 (sqr beta)) (/ 1 2)))\n",
    "\n",
    "(texv (up 'v (v 'beta)))"
   ]
  },
  {
   "cell_type": "markdown",
   "id": "ead0ca39-c4fe-445c-aaef-f47475415504",
   "metadata": {},
   "source": [
    "the energy and frequency are given by the Lorentz transformation:"
   ]
  },
  {
   "cell_type": "code",
   "execution_count": null,
   "id": "6dfa7f00-c306-43b2-b181-0ce8d3e4990b",
   "metadata": {},
   "outputs": [],
   "source": [
    "(texv (up 'E (/ (E0 'm) (sqrt-beta 'beta))))"
   ]
  },
  {
   "cell_type": "code",
   "execution_count": null,
   "id": "940ac529-b71e-4c55-927b-6a03498f1ece",
   "metadata": {},
   "outputs": [],
   "source": [
    "(define ((nu nu_0) beta) (/ nu_0 (sqrt-beta beta)))\n",
    "\n",
    "(texv (up 'nu ((nu 'nu_0) 'beta)))"
   ]
  },
  {
   "cell_type": "markdown",
   "id": "2e2ac472-e9cd-4cfa-b3be-eb77e9f57f73",
   "metadata": {},
   "source": [
    "On the other hand, due to time dilation we would expect something vibrating with frequency νo in the rest frame to have a frequency"
   ]
  },
  {
   "cell_type": "code",
   "execution_count": null,
   "id": "71c712c3-b11f-4edc-9cc3-b3fe4392d27b",
   "metadata": {},
   "outputs": [],
   "source": [
    "(define (nu_1 nu_0 beta) (* nu_0 (sqrt-beta beta)))\n",
    "\n",
    "(texv (up 'nu_1 (nu_1 'nu_0 'beta)))"
   ]
  },
  {
   "cell_type": "markdown",
   "id": "10591c9e-63d3-416d-81f9-170d12f39eed",
   "metadata": {},
   "source": [
    "as seen by an observer in the lab frame. What is going on here? Most people would have concluded at this point that there was something wrong with the whole idea and started working on something else. But not de Broglie. In addition to the internal vibration, he assumed that the particle was also associated with a wave of frequency $\\nu$ and phase velocity $v_p$. Thus the wave would be described by a function"
   ]
  },
  {
   "cell_type": "code",
   "execution_count": null,
   "id": "f27a5d3a-6305-4fbc-ac65-dbfb5a369f48",
   "metadata": {},
   "outputs": [],
   "source": [
    "(define ((wave nu v_p) x t) (sin (* 2 'pi nu (- t (/ x v_p)))))\n",
    "(texv (up ((wave 'nu 'v_p) 'x 't)))"
   ]
  },
  {
   "cell_type": "markdown",
   "id": "732f3afc-1e35-497d-b764-658e75cb23d3",
   "metadata": {},
   "source": [
    "If the particle (remember we are dealing with photons here) was at x = 0 at t = 0 and the wave and internal vibration were in phase at that time, at a time t later (in the lab frame), the particle would be at x = vt, the wave would be given by"
   ]
  },
  {
   "cell_type": "code",
   "execution_count": null,
   "id": "f251ea4d-178f-4b75-a3fe-108186dc4dc3",
   "metadata": {},
   "outputs": [],
   "source": [
    ";; the \"wave\" at the position of the particle is more a vibration, \n",
    ";; it only depends on time t, not on x anymore\n",
    "\n",
    "(define ((external-vibration nu v_p v) t) \n",
    "        ((wave nu v_p) (* v t) t))\n",
    "\n",
    "(texvv (up (sin (* 2 'pi 'nu 't (- 1 (/ 'v 'v_p) )))) \n",
    "       (up ((external-vibration 'nu 'v_p 'v) 't)))"
   ]
  },
  {
   "cell_type": "markdown",
   "id": "3f9e512a-6df6-4bb9-9594-dd322e865baa",
   "metadata": {},
   "source": [
    "and the internal vibration would be at a phase"
   ]
  },
  {
   "cell_type": "code",
   "execution_count": null,
   "id": "274194a3-2126-49fe-9a41-9b5c0c49aa56",
   "metadata": {},
   "outputs": [],
   "source": [
    "(define ((internal-vibration nu_1) t) (sin (* 2 'pi nu_1 t)))\n",
    "(texv (up ((internal-vibration 'nu_1) 't)))"
   ]
  },
  {
   "cell_type": "markdown",
   "id": "98f55c59-b123-440c-9c11-e739c7d7996e",
   "metadata": {},
   "source": [
    "The wave and the internal\n",
    "vibration would always be in phase if"
   ]
  },
  {
   "cell_type": "code",
   "execution_count": null,
   "id": "9bbee02b-a11f-4198-999d-5fb278f85745",
   "metadata": {},
   "outputs": [],
   "source": [
    "(define ((phase-difference nu v_p v t) nu_1)\n",
    "        (- ((internal-vibration nu_1) t)\n",
    "           ((external-vibration nu v_p v) t)))\n",
    "\n",
    "(define (nu_1_B nu v_p v) (* nu (- 1 (/ v v_p))))\n",
    "\n",
    "(solves 'nu_1 \n",
    "        (nu_1_B 'nu 'v_p 'v) \n",
    "        (phase-difference 'nu 'v_p 'v 't))"
   ]
  },
  {
   "cell_type": "code",
   "execution_count": null,
   "id": "26355915-153b-4f39-ac58-228340006653",
   "metadata": {},
   "outputs": [],
   "source": [
    "(define (equation_nu_1 v beta)\n",
    "    (up\n",
    "     (nu_1 'nu_0 beta) \n",
    "     (nu_1_B ((nu 'nu_0) beta) 'v_p v)))\n",
    "\n",
    "(texvv\n",
    " (up\n",
    "  (* 'nu_0 (sqrt-beta 'beta))\n",
    "  (* (/ 'nu_0 (sqrt-beta 'beta)) (- 1 (/ 'v 'v_p))))\n",
    " (equation_nu_1 'v 'beta))"
   ]
  },
  {
   "cell_type": "markdown",
   "id": "7c584498-17cb-4b31-805c-1489cba20391",
   "metadata": {},
   "source": [
    "which means that"
   ]
  },
  {
   "cell_type": "code",
   "execution_count": null,
   "id": "5f81006d-699d-4fe0-89df-78cfbb5c1e95",
   "metadata": {},
   "outputs": [],
   "source": [
    "(define (transform1 form beta)\n",
    "        (-> form\n",
    "            (* (/ -1 'nu_0))\n",
    "            (* (sqrt-beta beta))\n",
    "            (+ (up 1 1))\n",
    "            simplify))\n",
    "\n",
    "(texv (transform1 (equation_nu_1 'v 'beta) 'beta))"
   ]
  },
  {
   "cell_type": "markdown",
   "id": "db5bd386-8ca5-4fb2-9faf-a87f529d0e45",
   "metadata": {},
   "source": [
    "and so"
   ]
  },
  {
   "cell_type": "code",
   "execution_count": null,
   "id": "b2ea9666-69b8-4621-bc48-b3131b37303c",
   "metadata": {},
   "outputs": [],
   "source": [
    "(define (transform2 form beta)\n",
    "        (-> form\n",
    "            (transform1 beta)\n",
    "            (* 'v_p)\n",
    "            (/ (sqr beta))\n",
    "            simplify))\n",
    "\n",
    "(texv (transform2 (equation_nu_1 (v 'beta) 'beta) 'beta))"
   ]
  },
  {
   "cell_type": "markdown",
   "id": "6ace893c-eebe-44c5-80c8-cdcd4c42f3fa",
   "metadata": {},
   "source": [
    "which is $> c$. Thus he concluded that the wave could not transport energy. He initially considered it as a fictional wave associated with the motion and called it a “phase wave.”"
   ]
  },
  {
   "cell_type": "markdown",
   "id": "555132d6-b3e1-40e5-b3f1-5d1b805a8a65",
   "metadata": {},
   "source": [
    "The group velocity in one dimension: \n",
    "$$v_g \n",
    "= \\frac{\\mathrm{d}\\omega}{\\mathrm{d}k}\n",
    "= \\frac{\\mathrm{d}\\nu}{\\mathrm{d}(1/\\lambda)}\n",
    "= \\frac{\\mathrm{d}\\nu}{\\mathrm{d}(\\nu/v_p)}\n",
    "= \\frac{\\mathrm{d}\\nu / \\mathrm{d}\\beta}{\\mathrm{d}(\\nu/v_p) / \\mathrm{d}\\beta}\n",
    "$$"
   ]
  },
  {
   "cell_type": "markdown",
   "id": "b1cc7975-3ef0-4db8-8ff5-6c5400991304",
   "metadata": {},
   "source": [
    "We have"
   ]
  },
  {
   "cell_type": "code",
   "execution_count": null,
   "id": "a6597a00-090c-42e5-a9da-9cdbe820c6b3",
   "metadata": {},
   "outputs": [],
   "source": [
    "(define (v_p beta) (second (transform2 (equation_nu_1 (v beta) beta) beta)))\n",
    "\n",
    "(define ((inv-lambda m) beta) \n",
    "        (/ ((nu (nu_0 (E0 m))) beta) (v_p beta)))\n",
    "\n",
    "(texvv (up (/ 'nu 'v_p) \n",
    "           (/ (* 'm 'beta 'c) (* 'h (sqrt-beta 'beta)))) \n",
    "      (up (/ 'nu 'v_p)\n",
    "          ((inv-lambda 'm) 'beta)))"
   ]
  },
  {
   "cell_type": "markdown",
   "id": "996d950e-b08f-4059-8246-67b5a679755d",
   "metadata": {},
   "source": [
    "and we find"
   ]
  },
  {
   "cell_type": "code",
   "execution_count": null,
   "id": "de4b7618-0f62-4137-b915-17ae8ba743ba",
   "metadata": {},
   "outputs": [],
   "source": [
    "(define v_g \n",
    "    (/ (D (nu (nu_0 (E0 'm)))) \n",
    "       (D (inv-lambda 'm))))\n",
    "\n",
    "(texv (up 'v_g (simplify (v_g 'beta))))"
   ]
  },
  {
   "cell_type": "markdown",
   "id": "775c0b96-9e48-4049-91dc-64f94543b2c0",
   "metadata": {},
   "source": [
    "which is the particle velocity. Another way of seeing this is to note that if H (p, q) = hν = ħω is the total energy, the particle velocity is given by Hamilton’s equation:"
   ]
  },
  {
   "cell_type": "markdown",
   "id": "a5d25ca6-96ff-471f-b97a-1315264a11e4",
   "metadata": {},
   "source": [
    "$$\\dot{q} \n",
    "= \\frac{\\partial{H}}{\\partial{p}}\n",
    "= \\frac{\\partial{(\\hbar \\omega)}}{\\partial{(\\hbar k)}}\n",
    "= \\frac{\\partial{\\omega}}{\\partial{k}}\n",
    "= v_g\n",
    "$$"
   ]
  },
  {
   "cell_type": "markdown",
   "id": "60294bc7-fcef-4c9a-a5c3-4c762fa5f1cd",
   "metadata": {},
   "source": [
    "where we used the de Broglie relation p = ħk"
   ]
  }
 ],
 "metadata": {
  "kernelspec": {
   "display_name": "Clojure (noj-2-beta6.1)",
   "language": "clojure",
   "name": "noj-2-beta6.1"
  },
  "language_info": {
   "file_extension": ".clj",
   "mimetype": "text/x-clojure",
   "name": "clojure",
   "version": "1.11.1"
  }
 },
 "nbformat": 4,
 "nbformat_minor": 5
}
