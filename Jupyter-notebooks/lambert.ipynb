{
 "cells": [
  {
   "cell_type": "markdown",
   "id": "f8775be0-7049-47d2-9c82-02af39351edc",
   "metadata": {},
   "source": [
    "# Absolute Zero at -272°C, says J. H. Lambert in 1777"
   ]
  },
  {
   "cell_type": "markdown",
   "id": "e7b22e0b-2615-4f0a-b2d0-2227d14c4f60",
   "metadata": {},
   "source": [
    "In his book [\"Pyrometrie\"](https://ia600909.us.archive.org/7/items/bub_gb_G5I_AAAAcAAJ/bub_gb_G5I_AAAAcAAJ.pdf), page 40, Lambert states measurements by Mr. Amonton concerning the temperature and pressure of air. On page 47, he improves on the temperature of boiling water. By extrapolation, he re-calculates the temperature of air at pressure zero. Today's value of this absolute zero is -273,15°C. So his -272°C is pretty close."
   ]
  },
  {
   "cell_type": "markdown",
   "id": "cb93f7d4-0640-414c-931c-d97e793a7dc7",
   "metadata": {},
   "source": [
    "## Code Preamble"
   ]
  },
  {
   "cell_type": "code",
   "execution_count": 1,
   "id": "9a23a0f8-a106-4038-b00c-6c7a3e622cfe",
   "metadata": {},
   "outputs": [
    {
     "data": {
      "text/plain": [
       "#'user/_"
      ]
     },
     "execution_count": 1,
     "metadata": {},
     "output_type": "execute_result"
    }
   ],
   "source": [
    "(require '[clojupyter.misc.helper :as helper])\n",
    "(def _ (helper/add-dependencies '[org.scicloj/noj \"2-beta4\"]))"
   ]
  },
  {
   "cell_type": "code",
   "execution_count": 2,
   "id": "f306631b-17a1-4f38-bdc8-c9ae64ba2c19",
   "metadata": {},
   "outputs": [
    {
     "data": {
      "text/plain": [
       "nil"
      ]
     },
     "execution_count": 2,
     "metadata": {},
     "output_type": "execute_result"
    }
   ],
   "source": [
    "(ns lambert\n",
    "  (:require [scicloj.kindly.v4.kind :as kind]\n",
    "            [clojure.math :as math]))"
   ]
  },
  {
   "cell_type": "code",
   "execution_count": 3,
   "id": "5c131fdb-880b-454f-8118-4b2a95dbe37d",
   "metadata": {},
   "outputs": [
    {
     "data": {
      "text/plain": [
       "#'lambert/round"
      ]
     },
     "execution_count": 3,
     "metadata": {},
     "output_type": "execute_result"
    }
   ],
   "source": [
    "(defn transpose [m]\n",
    "  (apply mapv vector m))\n",
    "\n",
    "(defn tenpow [n]\n",
    "  (apply * (repeat n 10)))\n",
    "\n",
    "(defn round [x dec]\n",
    "  (double (/ (math/round (* x (tenpow dec))) (tenpow dec))))"
   ]
  },
  {
   "cell_type": "markdown",
   "id": "82612915-498d-44e1-8e2e-3a1e9c86fb9c",
   "metadata": {},
   "source": [
    "## Data and Calculation"
   ]
  },
  {
   "cell_type": "markdown",
   "id": "f1bb564c-48eb-4389-bf05-d749473f9b7a",
   "metadata": {},
   "source": [
    "The book is in German. So, \"Zolle\" means inches, that is pressure; \"Grade\" means degrees, temperature. He was kind enough to give verbal descriptions, \"frierendes Wasser\" is frozen water, i.e. our 0°C, and \"siedendes Wasser\" is boiling water, i.e. our 100°C."
   ]
  },
  {
   "cell_type": "code",
   "execution_count": 4,
   "id": "63823bb2-699f-4450-9faa-095a3e6b343d",
   "metadata": {},
   "outputs": [
    {
     "data": {
      "text/plain": [
       "#'lambert/desc"
      ]
     },
     "execution_count": 4,
     "metadata": {},
     "output_type": "execute_result"
    }
   ],
   "source": [
    "(def desc {:zolle \"Zolle des Amontonschen Thermometers\"\n",
    "           :grade \"Grade das Luftthermometers\"})"
   ]
  },
  {
   "cell_type": "code",
   "execution_count": 5,
   "id": "323948d7-0dc3-4e14-828e-1f9a1d354a1f",
   "metadata": {},
   "outputs": [
    {
     "data": {
      "text/plain": [
       "#'lambert/data"
      ]
     },
     "execution_count": 5,
     "metadata": {},
     "output_type": "execute_result"
    }
   ],
   "source": [
    "(def data\n",
    "  {:zolle [51.6 54 54.4 58.2 58.9 55.9 59.9 61.10 64.2 67.3 58.5 73.0 54.0]\n",
    "   :grade [1000 1049 1055 1129 1141 1082 1160 1201 1246 1306 1134 1417 1049]\n",
    "   :C     [\"frierendes Wasser\"\n",
    "           \"Im Keller der Pariser Sternwarte\"\n",
    "           \"Sternwarte2\"\n",
    "           \"Wärem der Hand in mässiger Sommerluft, von verschiedenen Personen\"\n",
    "           \"Handwärme 2\"\n",
    "           \"Wärme der Luft, zur Zeit, da diese Wärme der Hände beobachtet worden\"\n",
    "           \"schmelzende Butter\"\n",
    "           \"schmelzend Unschlit\"\n",
    "           \"gerinnend Wachs\"\n",
    "           \"ein 10 bis 12 Gran schweres Stückchen Wachses ist ganz geschmolzen\"\n",
    "           \"temperiert scheinendes Wasser\"\n",
    "           \"siedendes Wasser\"\n",
    "           \"temperierte Luft\"]})"
   ]
  },
  {
   "cell_type": "code",
   "execution_count": 6,
   "id": "7f0bb44e-5b37-4444-8c18-22f22a5cc08e",
   "metadata": {},
   "outputs": [
    {
     "data": {
      "text/plain": [
       "#'lambert/tb1"
      ]
     },
     "execution_count": 6,
     "metadata": {},
     "output_type": "execute_result"
    }
   ],
   "source": [
    "(def tb1 (transpose ((juxt :zolle :grade :C) data)))"
   ]
  },
  {
   "cell_type": "markdown",
   "id": "fac59d79-6c72-4b5a-8545-475894346264",
   "metadata": {},
   "source": [
    "Convert his degrees to Celsius, make sure that 0° and 100° are correctly attributed. Remember that these are Amonton's values."
   ]
  },
  {
   "cell_type": "code",
   "execution_count": 7,
   "id": "959061d6-ddef-499b-bbab-2d0e99555bad",
   "metadata": {},
   "outputs": [
    {
     "data": {
      "text/html": [
       "<div class=\"kind-vector\"><div style=\"border:1px solid grey;padding:2px;\"><div class=\"kind-vector\"><div style=\"border:1px solid grey;padding:2px;\">51.6</div><div style=\"border:1px solid grey;padding:2px;\">1000</div><div style=\"border:1px solid grey;padding:2px;\">0.0</div><div style=\"border:1px solid grey;padding:2px;\">frierendes Wasser</div></div></div><div style=\"border:1px solid grey;padding:2px;\"><div class=\"kind-vector\"><div style=\"border:1px solid grey;padding:2px;\">54</div><div style=\"border:1px solid grey;padding:2px;\">1049</div><div style=\"border:1px solid grey;padding:2px;\">11.75059952038369</div><div style=\"border:1px solid grey;padding:2px;\">Im Keller der Pariser Sternwarte</div></div></div><div style=\"border:1px solid grey;padding:2px;\"><div class=\"kind-vector\"><div style=\"border:1px solid grey;padding:2px;\">54.4</div><div style=\"border:1px solid grey;padding:2px;\">1055</div><div style=\"border:1px solid grey;padding:2px;\">13.189448441247</div><div style=\"border:1px solid grey;padding:2px;\">Sternwarte2</div></div></div><div style=\"border:1px solid grey;padding:2px;\"><div class=\"kind-vector\"><div style=\"border:1px solid grey;padding:2px;\">58.2</div><div style=\"border:1px solid grey;padding:2px;\">1129</div><div style=\"border:1px solid grey;padding:2px;\">30.93525179856115</div><div style=\"border:1px solid grey;padding:2px;\">Wärem der Hand in mässiger Sommerluft, von verschiedenen Personen</div></div></div><div style=\"border:1px solid grey;padding:2px;\"><div class=\"kind-vector\"><div style=\"border:1px solid grey;padding:2px;\">58.9</div><div style=\"border:1px solid grey;padding:2px;\">1141</div><div style=\"border:1px solid grey;padding:2px;\">33.81294964028777</div><div style=\"border:1px solid grey;padding:2px;\">Handwärme 2</div></div></div><div style=\"border:1px solid grey;padding:2px;\"><div class=\"kind-vector\"><div style=\"border:1px solid grey;padding:2px;\">55.9</div><div style=\"border:1px solid grey;padding:2px;\">1082</div><div style=\"border:1px solid grey;padding:2px;\">19.66426858513189</div><div style=\"border:1px solid grey;padding:2px;\">Wärme der Luft, zur Zeit, da diese Wärme der Hände beobachtet worden</div></div></div><div style=\"border:1px solid grey;padding:2px;\"><div class=\"kind-vector\"><div style=\"border:1px solid grey;padding:2px;\">59.9</div><div style=\"border:1px solid grey;padding:2px;\">1160</div><div style=\"border:1px solid grey;padding:2px;\">38.36930455635492</div><div style=\"border:1px solid grey;padding:2px;\">schmelzende Butter</div></div></div><div style=\"border:1px solid grey;padding:2px;\"><div class=\"kind-vector\"><div style=\"border:1px solid grey;padding:2px;\">61.1</div><div style=\"border:1px solid grey;padding:2px;\">1201</div><div style=\"border:1px solid grey;padding:2px;\">48.20143884892086</div><div style=\"border:1px solid grey;padding:2px;\">schmelzend Unschlit</div></div></div><div style=\"border:1px solid grey;padding:2px;\"><div class=\"kind-vector\"><div style=\"border:1px solid grey;padding:2px;\">64.2</div><div style=\"border:1px solid grey;padding:2px;\">1246</div><div style=\"border:1px solid grey;padding:2px;\">58.99280575539568</div><div style=\"border:1px solid grey;padding:2px;\">gerinnend Wachs</div></div></div><div style=\"border:1px solid grey;padding:2px;\"><div class=\"kind-vector\"><div style=\"border:1px solid grey;padding:2px;\">67.3</div><div style=\"border:1px solid grey;padding:2px;\">1306</div><div style=\"border:1px solid grey;padding:2px;\">73.38129496402878</div><div style=\"border:1px solid grey;padding:2px;\">ein 10 bis 12 Gran schweres Stückchen Wachses ist ganz geschmolzen</div></div></div><div style=\"border:1px solid grey;padding:2px;\"><div class=\"kind-vector\"><div style=\"border:1px solid grey;padding:2px;\">58.5</div><div style=\"border:1px solid grey;padding:2px;\">1134</div><div style=\"border:1px solid grey;padding:2px;\">32.13429256594724</div><div style=\"border:1px solid grey;padding:2px;\">temperiert scheinendes Wasser</div></div></div><div style=\"border:1px solid grey;padding:2px;\"><div class=\"kind-vector\"><div style=\"border:1px solid grey;padding:2px;\">73.0</div><div style=\"border:1px solid grey;padding:2px;\">1417</div><div style=\"border:1px solid grey;padding:2px;\">100.0</div><div style=\"border:1px solid grey;padding:2px;\">siedendes Wasser</div></div></div><div style=\"border:1px solid grey;padding:2px;\"><div class=\"kind-vector\"><div style=\"border:1px solid grey;padding:2px;\">54.0</div><div style=\"border:1px solid grey;padding:2px;\">1049</div><div style=\"border:1px solid grey;padding:2px;\">11.75059952038369</div><div style=\"border:1px solid grey;padding:2px;\">temperierte Luft</div></div></div></div>"
      ]
     },
     "execution_count": 7,
     "metadata": {},
     "output_type": "execute_result"
    }
   ],
   "source": [
    "(defn luft->celsius [g siedepunkt]\n",
    "  (double (/ (- g 1000) (/ (- siedepunkt 1000) 100))))\n",
    "\n",
    "(defn tb2 [sp]\n",
    "  (mapv (fn[[z g d]] [z g (luft->celsius g sp) d]) tb1))\n",
    "\n",
    "(tb2 1417)"
   ]
  },
  {
   "cell_type": "markdown",
   "id": "6c53e365-e8de-4f29-8834-5eee699c2f2f",
   "metadata": {},
   "source": [
    "By linear regressession, we calculate Amonton's zero temperature to -241°C"
   ]
  },
  {
   "cell_type": "code",
   "execution_count": 8,
   "id": "304d9c90-2d86-46bf-ace2-9fe5f1951da2",
   "metadata": {},
   "outputs": [
    {
     "data": {
      "text/html": [
       "-241.17904934486012"
      ]
     },
     "execution_count": 8,
     "metadata": {},
     "output_type": "execute_result"
    }
   ],
   "source": [
    "(defn ordinate [xs ys]\n",
    "  (let [n    (count xs)\n",
    "        s_x  (reduce + xs)\n",
    "        s_y  (reduce + ys)\n",
    "        xy   (map #(* %1 %2) xs ys)\n",
    "        s_xy (reduce + xy)\n",
    "        x2   (map #(* % %) xs)\n",
    "        s_x2 (reduce + x2)\n",
    "        sx_2 (* s_x s_x)]\n",
    "    (/ (- (* s_y s_x2) (* s_x s_xy))\n",
    "       (- (* n s_x2) sx_2))))\n",
    "\n",
    "(apply ordinate (map (transpose (tb2 1417)) [0 2]))"
   ]
  },
  {
   "cell_type": "markdown",
   "id": "4fb7d595-34bf-417d-8f67-dad35fd6e778",
   "metadata": {},
   "source": [
    "Page 47, §89: His boiling point is 1370, the old was 1417. \"Siedepunkt Wasser 1370 bestimmt\", \"Ich werde als eine runde Zahl C = 1370 annehmen. Amontons fand 1417\""
   ]
  },
  {
   "cell_type": "code",
   "execution_count": 9,
   "id": "04baa5f8-b4f6-4fca-9135-00edad65b73b",
   "metadata": {},
   "outputs": [
    {
     "data": {
      "text/html": [
       "<div class=\"kind-vector\"><div style=\"border:1px solid grey;padding:2px;\">-279.37</div><div style=\"border:1px solid grey;padding:2px;\">-271.82</div><div style=\"border:1px solid grey;padding:2px;\">-264.66</div><div style=\"border:1px solid grey;padding:2px;\">-241.18</div></div>"
      ]
     },
     "execution_count": 9,
     "metadata": {},
     "output_type": "execute_result"
    }
   ],
   "source": [
    "(mapv #(round % 2)\n",
    "      (map #(apply ordinate\n",
    "                   (map (transpose (tb2 %)) [0 2]))\n",
    "           [1360 1370 1380 1417]))"
   ]
  },
  {
   "cell_type": "markdown",
   "id": "a96e4050-3dec-4653-a7ab-a51b0b769d4f",
   "metadata": {},
   "source": [
    "So, based on his raw data, Lambert's zero temperature is -271,82°C. It is the extrapolation based on his 1370 degrees. If we assume a measurement error of +-10 digits, Lambert's value is bound between -265°C and -280°C, indeed an improvement to Amonton."
   ]
  },
  {
   "cell_type": "code",
   "execution_count": null,
   "id": "8a0bdb39-ecb6-4508-84a6-fabcbcf1372b",
   "metadata": {},
   "outputs": [],
   "source": []
  }
 ],
 "metadata": {
  "kernelspec": {
   "display_name": "Clojure (clojupyter-0.5.384)",
   "language": "clojure",
   "name": "clojupyter-0.5.384"
  },
  "language_info": {
   "file_extension": ".clj",
   "mimetype": "text/x-clojure",
   "name": "clojure",
   "version": "1.12.0"
  }
 },
 "nbformat": 4,
 "nbformat_minor": 5
}
