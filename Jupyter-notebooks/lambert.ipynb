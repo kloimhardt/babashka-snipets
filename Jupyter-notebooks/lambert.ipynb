{
 "cells": [
  {
   "cell_type": "markdown",
   "id": "f8775be0-7049-47d2-9c82-02af39351edc",
   "metadata": {},
   "source": [
    "# Absolute Zero at -272°C, says J. H. Lambert in 1777"
   ]
  },
  {
   "cell_type": "markdown",
   "id": "e7b22e0b-2615-4f0a-b2d0-2227d14c4f60",
   "metadata": {},
   "source": [
    "Lambert, in his book, states measurements by a certain Mr. Amonton concerning the relation between temperature and pressure of air (\"Pyrometrie\" from 1777, page 40 [(archive.org link)](https://archive.org/details/bub_gb_G5I_AAAAcAAJ)). On page 47, he improves on the measurement of air pressure in an environment where water is boiling. By extrapolation, he re-calculates (and inproves upon) the temperature value of air when pressure approaches zero. Today's value of this absolute zero point is -273,15°C. His value, -272°C, is pretty close."
   ]
  },
  {
   "cell_type": "markdown",
   "id": "cb93f7d4-0640-414c-931c-d97e793a7dc7",
   "metadata": {
    "jp-MarkdownHeadingCollapsed": true
   },
   "source": [
    "## Code Preamble"
   ]
  },
  {
   "cell_type": "code",
   "execution_count": 1,
   "id": "8967d823-e0a9-4bb6-8ee2-c1e4c95c2e6c",
   "metadata": {
    "jupyter": {
     "source_hidden": true
    }
   },
   "outputs": [
    {
     "data": {
      "text/plain": [
       "#'user/_"
      ]
     },
     "execution_count": 1,
     "metadata": {},
     "output_type": "execute_result"
    }
   ],
   "source": [
    "(require '[clojupyter.misc.helper :as helper])\n",
    "(def _ (helper/add-dependencies '[org.mentat/emmy \"0.32.0\"]))\n",
    "(def _ (helper/add-dependencies '[org.scicloj/kindly  \"4-beta14\"]))"
   ]
  },
  {
   "cell_type": "code",
   "execution_count": 2,
   "id": "f306631b-17a1-4f38-bdc8-c9ae64ba2c19",
   "metadata": {
    "jupyter": {
     "source_hidden": true
    }
   },
   "outputs": [
    {
     "name": "stderr",
     "output_type": "stream",
     "text": [
      "WARNING: abs already refers to: #'clojure.core/abs in namespace: clojure.math.numeric-tower, being replaced by: #'clojure.math.numeric-tower/abs\n"
     ]
    },
    {
     "data": {
      "text/plain": [
       "nil"
      ]
     },
     "execution_count": 2,
     "metadata": {},
     "output_type": "execute_result"
    }
   ],
   "source": [
    "(ns lambert\n",
    "    (:refer-clojure :exclude [+ - * / zero? compare divide numerator denominator infinite? abs ref partial =])\n",
    "    (:require [emmy.env :refer :all]\n",
    "            [scicloj.kindly.v4.kind :as kind]\n",
    "            [clojure.math :as math]))"
   ]
  },
  {
   "cell_type": "code",
   "execution_count": 3,
   "id": "5c131fdb-880b-454f-8118-4b2a95dbe37d",
   "metadata": {
    "jupyter": {
     "source_hidden": true
    }
   },
   "outputs": [
    {
     "data": {
      "text/plain": [
       "#'lambert/tex"
      ]
     },
     "execution_count": 3,
     "metadata": {},
     "output_type": "execute_result"
    }
   ],
   "source": [
    "(defn n-transpose [m]\n",
    "  (apply mapv vector m))\n",
    "\n",
    "(defn tenpow [n]\n",
    "  (apply * (repeat n 10)))\n",
    "\n",
    "(defn round [x dec]\n",
    "  (double (/ (math/round (* x (tenpow dec))) (tenpow dec))))\n",
    "\n",
    "(defn tex [exp & [prefix]]\n",
    "    (kind/tex (str \"$\" prefix (->TeX exp) \"$\")))"
   ]
  },
  {
   "cell_type": "markdown",
   "id": "82612915-498d-44e1-8e2e-3a1e9c86fb9c",
   "metadata": {},
   "source": [
    "## Data and Calculation"
   ]
  },
  {
   "cell_type": "markdown",
   "id": "f1bb564c-48eb-4389-bf05-d749473f9b7a",
   "metadata": {},
   "source": [
    "The book is in German. So, \"Zolle\" means inches, that is pressure; \"Grade\" means degrees, that is temperature in some old unit. He was kind enough to give verbal descriptions, \"frierendes Wasser\" is frozen water, i.e. our 0°C, and \"siedendes Wasser\" is boiling water, i.e. our 100°C."
   ]
  },
  {
   "cell_type": "code",
   "execution_count": 4,
   "id": "323948d7-0dc3-4e14-828e-1f9a1d354a1f",
   "metadata": {
    "jupyter": {
     "source_hidden": true
    }
   },
   "outputs": [
    {
     "data": {
      "text/html": [
       "<table><thead><tr>Zolle | Grade | Descr.</tr></thead><tbody><tr><td>51.6</td><td>1000</td><td>frierendes Wasser</td></tr><tr><td>54</td><td>1049</td><td>Im Keller der Pariser Sternwarte</td></tr><tr><td>54.4</td><td>1055</td><td>Sternwarte2</td></tr><tr><td>58.2</td><td>1129</td><td>Wärem der Hand in mässiger Sommerluft, von verschiedenen Personen</td></tr><tr><td>58.9</td><td>1141</td><td>Handwärme 2</td></tr><tr><td>55.9</td><td>1082</td><td>Wärme der Luft, zur Zeit, da diese Wärme der Hände beobachtet worden</td></tr><tr><td>59.9</td><td>1160</td><td>schmelzende Butter</td></tr><tr><td>61.1</td><td>1201</td><td>schmelzend Unschlit</td></tr><tr><td>64.2</td><td>1246</td><td>gerinnend Wachs</td></tr><tr><td>67.3</td><td>1306</td><td>ein 10 bis 12 Gran schweres Stückchen Wachses ist ganz geschmolzen</td></tr><tr><td>58.5</td><td>1134</td><td>temperiert scheinendes Wasser</td></tr><tr><td>73.0</td><td>1417</td><td>siedendes Wasser</td></tr><tr><td>54.0</td><td>1049</td><td>temperierte Luft</td></tr></tbody></table>"
      ]
     },
     "execution_count": 4,
     "metadata": {},
     "output_type": "execute_result"
    }
   ],
   "source": [
    "\n",
    "(def desc {:zolle \"Zolle des Amontonschen Thermometers\"\n",
    "           :grade \"Grade das Luftthermometers\"})\n",
    "\n",
    "(def data\n",
    "  {:zolle [51.6 54 54.4 58.2 58.9 55.9 59.9 61.10 64.2 67.3 58.5 73.0 54.0]\n",
    "   :grade [1000 1049 1055 1129 1141 1082 1160 1201 1246 1306 1134 1417 1049]\n",
    "   :C     [\"frierendes Wasser\"\n",
    "           \"Im Keller der Pariser Sternwarte\"\n",
    "           \"Sternwarte2\"\n",
    "           \"Wärem der Hand in mässiger Sommerluft, von verschiedenen Personen\"\n",
    "           \"Handwärme 2\"\n",
    "           \"Wärme der Luft, zur Zeit, da diese Wärme der Hände beobachtet worden\"\n",
    "           \"schmelzende Butter\"\n",
    "           \"schmelzend Unschlit\"\n",
    "           \"gerinnend Wachs\"\n",
    "           \"ein 10 bis 12 Gran schweres Stückchen Wachses ist ganz geschmolzen\"\n",
    "           \"temperiert scheinendes Wasser\"\n",
    "           \"siedendes Wasser\"\n",
    "           \"temperierte Luft\"]})\n",
    "\n",
    "(def tb1 (n-transpose ((juxt :zolle :grade :C) data)))\n",
    "\n",
    "(kind/table {:column-names [\"Zolle | \", \"Grade | \", \"Descr.\"] \n",
    "             :row-vectors tb1})"
   ]
  },
  {
   "cell_type": "markdown",
   "id": "fac59d79-6c72-4b5a-8545-475894346264",
   "metadata": {},
   "source": [
    "Because we know that his 1000 degrees is our 0°C, we can covert his degrees to Celsius, given that we know the boiling point of water in his degrees."
   ]
  },
  {
   "cell_type": "code",
   "execution_count": 5,
   "id": "959061d6-ddef-499b-bbab-2d0e99555bad",
   "metadata": {
    "jupyter": {
     "source_hidden": true
    }
   },
   "outputs": [
    {
     "data": {
      "text/latex": [
       "$t(g)=100\\,\\left(g - 1000\\right)\\,\\left(\\frac{1}{b - 1000}\\right)$"
      ]
     },
     "execution_count": 5,
     "metadata": {},
     "output_type": "execute_result"
    }
   ],
   "source": [
    "\n",
    "(defn lc [b]\n",
    "    (fn [g]\n",
    "        (* (* 100 (- g 1000)) (/ 1 (- b 1000)))))\n",
    "\n",
    "(defn luft->celsius [g bp]\n",
    "  (round ((lc bp) g) 2))\n",
    "\n",
    "(tex ((lc 'b) 'g) \"t(g)=\")"
   ]
  },
  {
   "cell_type": "markdown",
   "id": "44162bea-2665-40c4-a50f-9d1642ce3c2e",
   "metadata": {},
   "source": [
    "* t(g) ... temperature in degrees Celsius\n",
    "* g ... degrees in Lambert's units\n",
    "* b ... constant boiling point of water in Lambert's units"
   ]
  },
  {
   "cell_type": "markdown",
   "id": "96712ab0-9a24-4ffa-83d5-bcdde2426611",
   "metadata": {},
   "source": [
    "From Amonton's data, we know that the boiling point of water is 1417 and that in the basement of the Paris observatory, it had 1049 degrees. So we know the temperature in the basement in °C."
   ]
  },
  {
   "cell_type": "code",
   "execution_count": 6,
   "id": "f87c7352-779b-40d6-9dbb-ae73a38315a1",
   "metadata": {
    "collapsed": true,
    "jupyter": {
     "outputs_hidden": true,
     "source_hidden": true
    }
   },
   "outputs": [
    {
     "data": {
      "text/latex": [
       "$t_{1417}(1049)=11.75$"
      ]
     },
     "execution_count": 6,
     "metadata": {},
     "output_type": "execute_result"
    }
   ],
   "source": [
    "\n",
    "(tex (luft->celsius 1049 1417) \"t_{1417}(1049)=\")"
   ]
  },
  {
   "cell_type": "markdown",
   "id": "ea4912c1-6a5c-41b8-a738-9d6fe8a87c16",
   "metadata": {},
   "source": [
    "Voilà, the full table:"
   ]
  },
  {
   "cell_type": "code",
   "execution_count": 7,
   "id": "c509ade5-1bb9-41b4-b894-34d5d428a90a",
   "metadata": {
    "jupyter": {
     "source_hidden": true
    }
   },
   "outputs": [
    {
     "data": {
      "text/html": [
       "<table><thead><tr>Zolle | °C | </tr></thead><tbody><tr><td>51.6</td><td>0.0</td></tr><tr><td>54</td><td>11.75</td></tr><tr><td>54.4</td><td>13.19</td></tr><tr><td>58.2</td><td>30.94</td></tr><tr><td>58.9</td><td>33.81</td></tr><tr><td>55.9</td><td>19.66</td></tr><tr><td>59.9</td><td>38.37</td></tr><tr><td>61.1</td><td>48.2</td></tr><tr><td>64.2</td><td>58.99</td></tr><tr><td>67.3</td><td>73.38</td></tr><tr><td>58.5</td><td>32.13</td></tr><tr><td>73.0</td><td>100.0</td></tr><tr><td>54.0</td><td>11.75</td></tr></tbody></table>"
      ]
     },
     "execution_count": 7,
     "metadata": {},
     "output_type": "execute_result"
    }
   ],
   "source": [
    "\n",
    "(defn tb2 [sp]\n",
    "  (mapv (fn[[z g d]] [z (luft->celsius g sp)]) tb1))\n",
    "\n",
    "(kind/table {:column-names [\"Zolle | \", \"°C | \"] \n",
    "             :row-vectors (tb2 1417)})"
   ]
  },
  {
   "cell_type": "markdown",
   "id": "6c53e365-e8de-4f29-8834-5eee699c2f2f",
   "metadata": {},
   "source": [
    "By exprapolating this table to Zolle=0 (i.e. linear regression), we calculate Amonton's absolute zero temperature to -241°C"
   ]
  },
  {
   "cell_type": "code",
   "execution_count": 8,
   "id": "304d9c90-2d86-46bf-ace2-9fe5f1951da2",
   "metadata": {
    "jupyter": {
     "source_hidden": true
    }
   },
   "outputs": [
    {
     "data": {
      "text/latex": [
       "$T_{1417}=-241.2$"
      ]
     },
     "execution_count": 8,
     "metadata": {},
     "output_type": "execute_result"
    }
   ],
   "source": [
    "\n",
    "(defn ordinate [xs ys]\n",
    "  (let [n    (count xs)\n",
    "        s_x  (reduce + xs)\n",
    "        s_y  (reduce + ys)\n",
    "        xy   (map #(* %1 %2) xs ys)\n",
    "        s_xy (reduce + xy)\n",
    "        x2   (map #(* % %) xs)\n",
    "        s_x2 (reduce + x2)\n",
    "        sx_2 (* s_x s_x)]\n",
    "    (/ (- (* s_y s_x2) (* s_x s_xy))\n",
    "       (- (* n s_x2) sx_2))))\n",
    "\n",
    "(tex (round (apply ordinate (map (n-transpose (tb2 1417)) [0 1])) 1) \"T_{1417}=\")"
   ]
  },
  {
   "cell_type": "markdown",
   "id": "4fb7d595-34bf-417d-8f67-dad35fd6e778",
   "metadata": {},
   "source": [
    "On page 47, §89, Lambert states that his newly measured boiling point is 1370 (the old was 1417). \"Siedepunkt Wasser 1370 bestimmt\", \"Ich werde als eine runde Zahl C = 1370 annehmen. Amontons fand 1417\". With this, we can build the table above anew and extrapolate the according absolute zero temperature."
   ]
  },
  {
   "cell_type": "code",
   "execution_count": 9,
   "id": "6cea0448-56f8-4082-a2ad-9668afede7c9",
   "metadata": {
    "collapsed": true,
    "jupyter": {
     "outputs_hidden": true,
     "source_hidden": true
    }
   },
   "outputs": [
    {
     "data": {
      "text/latex": [
       "$T_{1370}=-271.8$"
      ]
     },
     "execution_count": 9,
     "metadata": {},
     "output_type": "execute_result"
    }
   ],
   "source": [
    "\n",
    "(tex (round (apply ordinate (map (n-transpose (tb2 1370)) [0 1])) 1) \"T_{1370}=\")"
   ]
  },
  {
   "cell_type": "markdown",
   "id": "ccccb42d-de3f-4c0c-9b41-42ca5eb64870",
   "metadata": {},
   "source": [
    "Let's calculate for $g=1360$ and $g=1380$ to estimate the measurement error of $T$."
   ]
  },
  {
   "cell_type": "code",
   "execution_count": 10,
   "id": "04baa5f8-b4f6-4fca-9135-00edad65b73b",
   "metadata": {
    "jupyter": {
     "source_hidden": true
    },
    "scrolled": true
   },
   "outputs": [
    {
     "data": {
      "text/html": [
       "<table><thead><tr>b | T</tr></thead><tbody><tr><td>1360</td><td>-279.4</td></tr><tr><td>1370</td><td>-271.8</td></tr><tr><td>1380</td><td>-264.7</td></tr><tr><td>1417</td><td>-241.2</td></tr></tbody></table>"
      ]
     },
     "execution_count": 10,
     "metadata": {},
     "output_type": "execute_result"
    }
   ],
   "source": [
    "\n",
    "(def bps [1360 1370 1380 1417])\n",
    "(def Ts (mapv #(round % 1)\n",
    "              (map #(apply ordinate\n",
    "                           (map (n-transpose (tb2 %)) [0 1]))\n",
    "           bps)))\n",
    "(kind/table {:column-names [\"b | \", \"T\"] \n",
    "             :row-vectors (n-transpose [bps Ts])})"
   ]
  },
  {
   "cell_type": "markdown",
   "id": "a96e4050-3dec-4653-a7ab-a51b0b769d4f",
   "metadata": {},
   "source": [
    "So, based on his raw data, Lambert's zero temperature is -271,8°C. It is the extrapolation based on his 1370 degrees for the boiling point of water. If we assume a measurement error of +-10 digits, Lambert's T value is bound between -265°C and -280°C, indeed an improvement to Amonton."
   ]
  }
 ],
 "metadata": {
  "kernelspec": {
   "display_name": "Clojure (clojupyter-0.5.384)",
   "language": "clojure",
   "name": "clojupyter-0.5.384"
  },
  "language_info": {
   "file_extension": ".clj",
   "mimetype": "text/x-clojure",
   "name": "clojure",
   "version": "1.12.0"
  }
 },
 "nbformat": 4,
 "nbformat_minor": 5
}
