{
 "cells": [
  {
   "cell_type": "code",
   "execution_count": null,
   "id": "8be7ef69-a1f7-4c5a-b254-2d990223e89c",
   "metadata": {},
   "outputs": [],
   "source": [
    "# ! pip install python_hiccup"
   ]
  },
  {
   "cell_type": "code",
   "execution_count": null,
   "id": "b83f0092-9f07-43a2-85f6-7167b1d7eda0",
   "metadata": {},
   "outputs": [],
   "source": [
    "# ! pip install edn_format"
   ]
  },
  {
   "cell_type": "code",
   "execution_count": null,
   "id": "29dc9c0c-d388-483a-9c00-7cc36e5b0763",
   "metadata": {},
   "outputs": [],
   "source": [
    "from functools import partial\n",
    "\n",
    "def walk(inner, outer, coll):\n",
    "    if isinstance(coll, list):\n",
    "        return outer([inner(e) for e in coll])\n",
    "    elif isinstance(coll, dict):\n",
    "        return outer(dict([inner(e) for e in iter(coll.items())]))\n",
    "    elif isinstance(coll, tuple):\n",
    "        return outer([inner(e) for e in coll])\n",
    "    else:\n",
    "        return outer(coll)\n",
    "\n",
    "def identity(e):\n",
    "    return e\n",
    "    \n",
    "def prewalk(fn, coll):\n",
    "    return walk(partial(prewalk, fn), identity, fn(coll))\n",
    "\n",
    "def postwalk(fn, coll):\n",
    "    return walk(partial(postwalk, fn), fn, coll)\n",
    "\n",
    "def subs(s, m):\n",
    "    return s[m:]"
   ]
  },
  {
   "cell_type": "code",
   "execution_count": null,
   "id": "93120bc7-b59d-4e4f-a2a2-57dd8d799b70",
   "metadata": {},
   "outputs": [],
   "source": [
    "import edn_format\n",
    "\n",
    "def ednTypesToPy(edn):\n",
    "    if isinstance(edn, edn_format.immutable_list.ImmutableList):\n",
    "        return list(edn)\n",
    "    elif isinstance(edn, edn_format.immutable_dict.ImmutableDict):\n",
    "        return dict(edn)\n",
    "    elif isinstance(edn, edn_format.edn_lex.Keyword):\n",
    "        return subs(str(edn),1)\n",
    "    else:\n",
    "        return edn\n",
    "\n",
    "def execute(edn):\n",
    "    if isinstance(edn, tuple):\n",
    "        return globals()[edn[0]](edn[1])\n",
    "    else:\n",
    "        return edn"
   ]
  },
  {
   "cell_type": "code",
   "execution_count": null,
   "id": "ad78f3cc-e215-4e4c-8e96-1db25ad96901",
   "metadata": {},
   "outputs": [],
   "source": [
    "from IPython.core.magic import (Magics, magics_class, cell_magic)\n",
    "from IPython.display import display, HTML\n",
    "from python_hiccup.html import render\n",
    "\n",
    "@magics_class\n",
    "class MyMagics(Magics):\n",
    "    @cell_magic\n",
    "    def cmagic(self, line, cell):\n",
    "        display(HTML(render(prewalk(ednTypesToPy,edn_format.loads(cell)))))\n",
    "        return None"
   ]
  },
  {
   "cell_type": "code",
   "execution_count": null,
   "id": "c4d210d9-0446-4584-84d1-6a0b9d9e6332",
   "metadata": {},
   "outputs": [],
   "source": [
    "from IPython import get_ipython\n",
    "get_ipython().register_magics(MyMagics)"
   ]
  },
  {
   "cell_type": "code",
   "execution_count": null,
   "id": "cb7fc62c-e1bc-4fb3-a994-9b32975e252d",
   "metadata": {},
   "outputs": [],
   "source": [
    "%%cmagic\n",
    "[:h1 \"Hello world!\"]"
   ]
  },
  {
   "cell_type": "code",
   "execution_count": null,
   "id": "59dfc33f-7733-4104-ac65-2f7bdc0716f2",
   "metadata": {},
   "outputs": [],
   "source": [
    "%%cmagic\n",
    "[:svg {:width 200 :height 100} [:circle {:cx 50 :cy 50 :r 25 :style \"fill:red\"}]]"
   ]
  },
  {
   "cell_type": "code",
   "execution_count": null,
   "id": "77f0d864-dc59-48c5-9363-d7b13f329471",
   "metadata": {},
   "outputs": [],
   "source": [
    "%%html\n",
    "<svg width=\"200\" height=\"100\" xmlns=\"http://www.w3.org/2000/svg\">\n",
    "  <circle id=\"circle2\" cx=\"50\" cy=\"50\" r=\"25\" style=\"fill:red;\" />\n",
    "  Sorry, your browser does not support inline SVG.\n",
    "</svg>"
   ]
  },
  {
   "cell_type": "code",
   "execution_count": null,
   "id": "9bab5911-ca30-455a-9ed9-5e41d81b7feb",
   "metadata": {},
   "outputs": [],
   "source": [
    "locals()[\"subs\"](\"hi\",1)"
   ]
  },
  {
   "cell_type": "code",
   "execution_count": null,
   "id": "6febcf27-cddd-49c8-ba77-5181fafe2fe7",
   "metadata": {},
   "outputs": [],
   "source": [
    "def ssu(e):\n",
    "    return subs(*e)"
   ]
  },
  {
   "cell_type": "code",
   "execution_count": null,
   "id": "9571547c-7a16-4656-b3e2-2a112273cdd4",
   "metadata": {},
   "outputs": [],
   "source": [
    "l=(\"ssu\", [\"hi\", 1])"
   ]
  },
  {
   "cell_type": "code",
   "execution_count": null,
   "id": "75a106d7-ed1f-4b3e-b34e-19fd059e1b23",
   "metadata": {},
   "outputs": [],
   "source": [
    "execute(l)"
   ]
  },
  {
   "cell_type": "code",
   "execution_count": null,
   "id": "6771b32f-a7fd-49c6-bdc6-90d80671c199",
   "metadata": {},
   "outputs": [],
   "source": [
    "locals()[l[0]](l[1])"
   ]
  },
  {
   "cell_type": "code",
   "execution_count": null,
   "id": "9179ac3a-67c5-4161-adb9-c58fac61d0d9",
   "metadata": {},
   "outputs": [],
   "source": [
    "l[0]"
   ]
  },
  {
   "cell_type": "code",
   "execution_count": null,
   "id": "96e01cea-64ba-4e46-a71e-deaeb3dbd0c5",
   "metadata": {},
   "outputs": [],
   "source": [
    "ssu([\"hi\",1])"
   ]
  },
  {
   "cell_type": "code",
   "execution_count": null,
   "id": "34c91682-b91c-4034-886b-a9677421faa6",
   "metadata": {},
   "outputs": [],
   "source": [
    "isinstance(l,tuple)"
   ]
  },
  {
   "cell_type": "code",
   "execution_count": null,
   "id": "12a98ee7-49dc-4112-aef7-d877ee2e3647",
   "metadata": {},
   "outputs": [],
   "source": []
  }
 ],
 "metadata": {
  "kernelspec": {
   "display_name": "Python 3 (ipykernel)",
   "language": "python",
   "name": "python3"
  },
  "language_info": {
   "codemirror_mode": {
    "name": "ipython",
    "version": 3
   },
   "file_extension": ".py",
   "mimetype": "text/x-python",
   "name": "python",
   "nbconvert_exporter": "python",
   "pygments_lexer": "ipython3",
   "version": "3.12.9"
  }
 },
 "nbformat": 4,
 "nbformat_minor": 5
}
