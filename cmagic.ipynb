{
 "cells": [
  {
   "cell_type": "code",
   "execution_count": null,
   "id": "8be7ef69-a1f7-4c5a-b254-2d990223e89c",
   "metadata": {},
   "outputs": [],
   "source": [
    "# ! pip install python_hiccup"
   ]
  },
  {
   "cell_type": "code",
   "execution_count": null,
   "id": "b83f0092-9f07-43a2-85f6-7167b1d7eda0",
   "metadata": {},
   "outputs": [],
   "source": [
    "# ! pip install edn_format"
   ]
  },
  {
   "cell_type": "code",
   "execution_count": null,
   "id": "5d445e39-0eba-4747-ad56-5de9550cf05a",
   "metadata": {},
   "outputs": [],
   "source": [
    "# ! pip install hissp"
   ]
  },
  {
   "cell_type": "code",
   "execution_count": null,
   "id": "29dc9c0c-d388-483a-9c00-7cc36e5b0763",
   "metadata": {},
   "outputs": [],
   "source": [
    "from functools import partial\n",
    "import edn_format\n",
    "\n",
    "def walk(inner, outer, coll):\n",
    "    if isinstance(coll, edn_format.immutable_list.ImmutableList):\n",
    "        return outer([inner(e) for e in coll])\n",
    "    elif isinstance(coll, edn_format.immutable_dict.ImmutableDict):\n",
    "        return outer(dict([inner(e) for e in iter(coll.items())]))\n",
    "    elif isinstance(coll, tuple):\n",
    "        return outer(tuple([inner(e) for e in coll]))\n",
    "    else:\n",
    "        return outer(coll)\n",
    "\n",
    "def postwalk(fn, coll):\n",
    "    return walk(partial(postwalk, fn), fn, coll)"
   ]
  },
  {
   "cell_type": "code",
   "execution_count": null,
   "id": "93120bc7-b59d-4e4f-a2a2-57dd8d799b70",
   "metadata": {},
   "outputs": [],
   "source": [
    "def simpleExecute(coll):\n",
    "    if isinstance(coll, edn_format.edn_lex.Symbol):\n",
    "        return globals().get(str(coll))\n",
    "    elif isinstance(coll, edn_format.edn_lex.Keyword):\n",
    "        return str(coll)[1:]\n",
    "    elif isinstance(coll, tuple):\n",
    "        f = coll[0]\n",
    "        if isinstance(f, str):\n",
    "            return coll\n",
    "        else:\n",
    "            return f(*coll[1:])\n",
    "    else:\n",
    "        return coll\n",
    "\n",
    "def tT(*d):\n",
    "    return d\n",
    "    \n",
    "def ednToHissp(edn):\n",
    "    if isinstance(edn, edn_format.edn_lex.Symbol):\n",
    "        return str(edn)    \n",
    "    elif isinstance(edn, edn_format.edn_lex.Keyword):\n",
    "        return (\"quote\", str(edn)[1:])\n",
    "    elif isinstance(edn, str):\n",
    "        return (\"quote\",edn)\n",
    "    elif isinstance(edn, list):\n",
    "        return tuple([\"tT\"] + edn)\n",
    "    elif isinstance(edn, dict):\n",
    "        return (\"dict\", tuple([\"tT\"] + [(\"tT\",) + e for e in iter(edn.items())]))\n",
    "    else:\n",
    "        return edn"
   ]
  },
  {
   "cell_type": "code",
   "execution_count": null,
   "id": "ad78f3cc-e215-4e4c-8e96-1db25ad96901",
   "metadata": {},
   "outputs": [],
   "source": [
    "from IPython.core.magic import (Magics, magics_class, cell_magic)\n",
    "from IPython.display import display, HTML\n",
    "from python_hiccup.html import render\n",
    "from hissp import readerless\n",
    "from hissp import _macro_\n",
    "\n",
    "def html(markupString):\n",
    "    display(HTML(render(markupString)))\n",
    "    return None\n",
    "    \n",
    "@magics_class\n",
    "class MyMagics(Magics):\n",
    "    @cell_magic\n",
    "    def inter(self, line, cell):\n",
    "        return postwalk(simpleExecute, edn_format.loads(cell))\n",
    "        \n",
    "    @cell_magic\n",
    "    def hissp(self, line, cell):\n",
    "        erg=eval(readerless(postwalk(ednToHissp, edn_format.loads(cell))))\n",
    "        return erg\n",
    "\n",
    "    @cell_magic\n",
    "    def hissp0(self, line, cell):\n",
    "        erg=postwalk(ednToHissp, edn_format.loads(cell))\n",
    "        return erg\n",
    "        \n",
    "    @cell_magic\n",
    "    def hissp1(self, line, cell):\n",
    "        erg=readerless(postwalk(ednToHissp, edn_format.loads(cell)))\n",
    "        return print(erg)"
   ]
  },
  {
   "cell_type": "code",
   "execution_count": null,
   "id": "c4d210d9-0446-4584-84d1-6a0b9d9e6332",
   "metadata": {},
   "outputs": [],
   "source": [
    "from IPython import get_ipython\n",
    "get_ipython().register_magics(MyMagics)"
   ]
  },
  {
   "cell_type": "code",
   "execution_count": null,
   "id": "8b06a458-f786-4e54-8bf5-5a9f3c97a5c8",
   "metadata": {},
   "outputs": [],
   "source": [
    "%%hissp\n",
    "(define f (lambda (name) {:key name}))"
   ]
  },
  {
   "cell_type": "code",
   "execution_count": null,
   "id": "aa17d998-f8f3-40d6-8ebc-4f9ea76524cf",
   "metadata": {},
   "outputs": [],
   "source": [
    "f(\"ha\")"
   ]
  },
  {
   "cell_type": "code",
   "execution_count": null,
   "id": "cb7fc62c-e1bc-4fb3-a994-9b32975e252d",
   "metadata": {},
   "outputs": [],
   "source": [
    "%%inter\n",
    "(html [:h1 \"Hello world!\"])"
   ]
  },
  {
   "cell_type": "code",
   "execution_count": null,
   "id": "59f52c09-412e-464a-87f3-c8bd026ed23a",
   "metadata": {},
   "outputs": [],
   "source": [
    "%%inter\n",
    "(html [:svg {:width 200 :height 100} [:circle {:cx 50 :cy 50 :r 25 :style \"fill:red\"}]])"
   ]
  },
  {
   "cell_type": "code",
   "execution_count": null,
   "id": "c4057fe0-5f95-493d-8656-2dba7ebbdb63",
   "metadata": {
    "scrolled": true
   },
   "outputs": [],
   "source": [
    "%%hissp\n",
    "(html [:svg {:width 200 :height 100} [:circle {:cx 50 :cy 50 :r 25 :style \"fill:blue\"}]])"
   ]
  },
  {
   "cell_type": "code",
   "execution_count": null,
   "id": "7c224b0f-354f-47e8-bd8a-a757fe5bea3c",
   "metadata": {},
   "outputs": [],
   "source": [
    "def subs(s, m):\n",
    "    return s[m:]\n",
    "\n",
    "def plus(a, b):\n",
    "    return a + b\n",
    "\n",
    "num = 1"
   ]
  },
  {
   "cell_type": "code",
   "execution_count": null,
   "id": "dac46081-51ba-4831-99e0-ca62255fb0a8",
   "metadata": {},
   "outputs": [],
   "source": [
    "%%inter\n",
    "(html [:h3 (subs (subs \"hi_hiccup\" (plus 1 num)) 1)])"
   ]
  },
  {
   "cell_type": "code",
   "execution_count": null,
   "id": "baa43c29-9eef-4b68-b342-b8e969e075df",
   "metadata": {},
   "outputs": [],
   "source": [
    "%%inter\n",
    "[:h3 (subs (subs \"hi_hiccup\" (plus 1 num)) 1)]"
   ]
  },
  {
   "cell_type": "code",
   "execution_count": null,
   "id": "8115bf29-e29f-4f88-881e-59d217263ffa",
   "metadata": {},
   "outputs": [],
   "source": [
    "%%hissp\n",
    "(html [:h3 (subs (subs \"hi_hissp\" (plus 1 num)) 1)])"
   ]
  },
  {
   "cell_type": "code",
   "execution_count": null,
   "id": "0f1e7e0e-c152-441f-9ee0-e39b14048186",
   "metadata": {},
   "outputs": [],
   "source": [
    "%%hissp\n",
    "[:h3 (subs (subs \"hi_hissp\" (plus 1 num)) 1)]"
   ]
  },
  {
   "cell_type": "code",
   "execution_count": null,
   "id": "51bbc4f0-29ca-4297-9efa-7cbef024d54e",
   "metadata": {},
   "outputs": [],
   "source": [
    "%%hissp0\n",
    "(html [:h3 (subs (subs \"hi_hissp\" (plus 1 num)) 1)])"
   ]
  },
  {
   "cell_type": "code",
   "execution_count": null,
   "id": "c36f2a11-02dc-4522-80d3-380d656a9dfa",
   "metadata": {},
   "outputs": [],
   "source": [
    "%%hissp1\n",
    "(html [:h3 (subs (subs \"hi_hissp\" (plus 1 num)) 1)])"
   ]
  },
  {
   "cell_type": "code",
   "execution_count": null,
   "id": "a8ff7cd8-f2f0-4efb-85ae-a458254dc81c",
   "metadata": {},
   "outputs": [],
   "source": [
    "%%html\n",
    "<script src=\"https://unpkg.com/blockly/blockly_compressed.js\"></script>"
   ]
  },
  {
   "cell_type": "code",
   "execution_count": null,
   "id": "818446c6-39bc-4509-85ae-27a298180cf8",
   "metadata": {
    "scrolled": true
   },
   "outputs": [],
   "source": [
    "%%js\n",
    "Blockly.defineBlocksWithJsonArray([\n",
    "     {\n",
    "         \"type\": \"num\",\n",
    "         \"message0\": \"%1\",\n",
    "         \"args0\": [\n",
    "             {\n",
    "                 \"type\": \"field_input\",\n",
    "                 \"name\": \"nummer\",\n",
    "                 \"text\": \"\"\n",
    "             }\n",
    "         ],\n",
    "         \"output\": null,\n",
    "         \"colour\": \"#A65C81\"\n",
    "     },\n",
    "     {\n",
    "         \"type\": \"funs-h-2-inp\",\n",
    "         \"message0\": \"%1 %2\",\n",
    "         \"args0\": [\n",
    "             {\n",
    "                 \"type\": \"field_input\",\n",
    "                 \"name\": \"kopf\",\n",
    "                 \"text\": \"\"\n",
    "             },\n",
    "             {\n",
    "                 \"type\": \"input_value\",\n",
    "                 \"name\": \"args-2\"\n",
    "             }\n",
    "         ],\n",
    "         \"inputsInline\": true,\n",
    "         \"output\": null,\n",
    "         \"colour\": 270\n",
    "     },\n",
    "     {\n",
    "         \"type\": \"funs-h-3-inp\",\n",
    "         \"message0\": \"%1 %2 %3\",\n",
    "         \"args0\": [\n",
    "             {\n",
    "                 \"type\": \"field_input\",\n",
    "                 \"name\": \"kopf\",\n",
    "                 \"text\": \"\"\n",
    "             },\n",
    "             {\n",
    "                 \"type\": \"input_value\",\n",
    "                 \"name\": \"args-2\"\n",
    "             },\n",
    "             {\n",
    "                 \"type\": \"input_value\",\n",
    "                 \"name\": \"args-3\"\n",
    "             }\n",
    "         ],\n",
    "         \"inputsInline\": true,\n",
    "         \"output\": null,\n",
    "         \"colour\": 140\n",
    "     }\n",
    "     ]);"
   ]
  },
  {
   "cell_type": "code",
   "execution_count": null,
   "id": "8d18502e-b150-4697-9eb9-26c3adaa44e4",
   "metadata": {
    "scrolled": true
   },
   "outputs": [],
   "source": [
    "%%html\n",
    "<xml id=\"toolbox\" style=\"display: none\">\n",
    "    <category name=\">\">\n",
    "        <block type=\"num\"></block>\n",
    "        <block type=\"funs-h-2-inp\"></block>\n",
    "        <block type=\"funs-h-3-inp\"></block>\n",
    "    </category>\n",
    "</xml>\n",
    "\n",
    "<div id=\"blocklyDiv1\" style=\"height: 100%\"></div>\n",
    "\n",
    "<script>\n",
    " var workspace1 = Blockly.inject('blocklyDiv1', {\n",
    "     toolbox: document.getElementById('toolbox') });\n",
    "</script>\n",
    "<h1>1</h1><h1>2</h1><h1>3</h1><h1>4</h1><h1>5</h1>"
   ]
  },
  {
   "cell_type": "code",
   "execution_count": null,
   "id": "9698a849-5a9b-47d1-9382-a791298dbdaa",
   "metadata": {
    "scrolled": true
   },
   "outputs": [],
   "source": [
    "%%html\n",
    "<div id=\"blocklyDiv2\" style=\"height:100%\"></div>\n",
    "<script>\n",
    " var workspace2 = Blockly.inject('blocklyDiv2', {\n",
    "     toolbox: document.getElementById('toolbox') });\n",
    "</script>\n",
    "<h1>1</h1><h1>2</h1><h1>3</h1><h1>4</h1><h1>5</h1>"
   ]
  },
  {
   "cell_type": "code",
   "execution_count": null,
   "id": "a89eb5f4-e9d0-4a99-b0a2-c14c18966efb",
   "metadata": {},
   "outputs": [],
   "source": []
  }
 ],
 "metadata": {
  "kernelspec": {
   "display_name": "Python 3 (ipykernel)",
   "language": "python",
   "name": "python3"
  },
  "language_info": {
   "codemirror_mode": {
    "name": "ipython",
    "version": 3
   },
   "file_extension": ".py",
   "mimetype": "text/x-python",
   "name": "python",
   "nbconvert_exporter": "python",
   "pygments_lexer": "ipython3",
   "version": "3.12.9"
  }
 },
 "nbformat": 4,
 "nbformat_minor": 5
}
