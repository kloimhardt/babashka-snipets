{
 "cells": [
  {
   "cell_type": "code",
   "execution_count": 1,
   "id": "8be7ef69-a1f7-4c5a-b254-2d990223e89c",
   "metadata": {},
   "outputs": [],
   "source": [
    "# ! pip install python_hiccup"
   ]
  },
  {
   "cell_type": "code",
   "execution_count": 2,
   "id": "b83f0092-9f07-43a2-85f6-7167b1d7eda0",
   "metadata": {},
   "outputs": [],
   "source": [
    "# ! pip install edn_format"
   ]
  },
  {
   "cell_type": "code",
   "execution_count": 3,
   "id": "5d445e39-0eba-4747-ad56-5de9550cf05a",
   "metadata": {},
   "outputs": [],
   "source": [
    "# ! pip install hissp"
   ]
  },
  {
   "cell_type": "code",
   "execution_count": 4,
   "id": "29dc9c0c-d388-483a-9c00-7cc36e5b0763",
   "metadata": {},
   "outputs": [],
   "source": [
    "from functools import partial\n",
    "\n",
    "def walk(inner, outer, coll):\n",
    "    if isinstance(coll, list):\n",
    "        return outer([inner(e) for e in coll])\n",
    "    elif isinstance(coll, dict):\n",
    "        return outer(dict([inner(e) for e in iter(coll.items())]))\n",
    "    elif isinstance(coll, tuple):\n",
    "        return outer(tuple([inner(e) for e in coll]))\n",
    "    else:\n",
    "        return outer(coll)\n",
    "\n",
    "def identity(e):\n",
    "    return e\n",
    "    \n",
    "def prewalk(fn, coll):\n",
    "    return walk(partial(prewalk, fn), identity, fn(coll))\n",
    "\n",
    "def postwalk(fn, coll):\n",
    "    return walk(partial(postwalk, fn), fn, coll)"
   ]
  },
  {
   "cell_type": "code",
   "execution_count": 5,
   "id": "93120bc7-b59d-4e4f-a2a2-57dd8d799b70",
   "metadata": {},
   "outputs": [],
   "source": [
    "import edn_format\n",
    "\n",
    "def ednTypesToPy(edn):\n",
    "    if isinstance(edn, edn_format.immutable_list.ImmutableList):\n",
    "        return list(edn)\n",
    "    elif isinstance(edn, edn_format.immutable_dict.ImmutableDict):\n",
    "        return dict(edn)\n",
    "    else:\n",
    "        return edn\n",
    "\n",
    "def execute(coll):\n",
    "    if isinstance(coll, edn_format.edn_lex.Keyword):\n",
    "        return str(coll)[1:]\n",
    "    elif isinstance(coll, edn_format.edn_lex.Symbol):\n",
    "        return str(coll)\n",
    "    if isinstance(coll, tuple):\n",
    "        f=globals().get(coll[0])\n",
    "        if f == None:\n",
    "            return coll\n",
    "        else:                \n",
    "            return f(*coll[1:])\n",
    "    else:\n",
    "        return coll\n",
    "\n",
    "def tT(*d):\n",
    "    return d\n",
    "    \n",
    "def ednToHissp(edn):\n",
    "    if isinstance(edn, edn_format.edn_lex.Symbol):\n",
    "        return str(edn)    \n",
    "    elif isinstance(edn, edn_format.edn_lex.Keyword):\n",
    "        return (\"quote\", str(edn)[1:])\n",
    "    elif isinstance(edn, str):\n",
    "        return (\"quote\",edn)\n",
    "    elif isinstance(edn, list):\n",
    "        return tuple([\"tT\"] + edn)\n",
    "    elif isinstance(edn, dict):\n",
    "        return (\"dict\", tuple([\"tT\"] + [(\"tT\",) + e for e in iter(edn.items())]))\n",
    "    else:\n",
    "        return edn"
   ]
  },
  {
   "cell_type": "code",
   "execution_count": 6,
   "id": "ad78f3cc-e215-4e4c-8e96-1db25ad96901",
   "metadata": {},
   "outputs": [],
   "source": [
    "from IPython.core.magic import (Magics, magics_class, cell_magic)\n",
    "from IPython.display import display, HTML\n",
    "from python_hiccup.html import render\n",
    "from hissp import readerless\n",
    "from hissp import _macro_\n",
    "\n",
    "def ednRead(txt):\n",
    "    return prewalk(ednTypesToPy,edn_format.loads(txt))\n",
    "\n",
    "def simpleExec(edn):\n",
    "    return postwalk(execute,edn)\n",
    "    \n",
    "@magics_class\n",
    "class MyMagics(Magics):\n",
    "    @cell_magic\n",
    "    def hiccup(self, line, cell):\n",
    "        display(HTML(render(simpleExec(ednRead(cell)))))\n",
    "        return None\n",
    "    \n",
    "    @cell_magic\n",
    "    def hissp(self, line, cell):\n",
    "        erg=eval(readerless(postwalk(ednToHissp, ednRead(cell))))\n",
    "        return erg\n",
    "\n",
    "    @cell_magic\n",
    "    def hissp0(self, line, cell):\n",
    "        erg=postwalk(ednToHissp, ednRead(cell))\n",
    "        return erg\n",
    "        \n",
    "    @cell_magic\n",
    "    def hissp1(self, line, cell):\n",
    "        erg=readerless(postwalk(ednToHissp, ednRead(cell)))\n",
    "        return erg\n",
    "\n",
    "    @cell_magic\n",
    "    def hissup(self, line, cell):\n",
    "        display(HTML(render(eval(readerless(postwalk(ednToHissp, ednRead(cell)))))))\n",
    "        return None"
   ]
  },
  {
   "cell_type": "code",
   "execution_count": 7,
   "id": "c4d210d9-0446-4584-84d1-6a0b9d9e6332",
   "metadata": {},
   "outputs": [],
   "source": [
    "from IPython import get_ipython\n",
    "get_ipython().register_magics(MyMagics)"
   ]
  },
  {
   "cell_type": "code",
   "execution_count": 8,
   "id": "8b06a458-f786-4e54-8bf5-5a9f3c97a5c8",
   "metadata": {},
   "outputs": [],
   "source": [
    "%%hissp\n",
    "(define f (lambda (name) {:key name}))"
   ]
  },
  {
   "cell_type": "code",
   "execution_count": 9,
   "id": "05634655-89e1-4db9-ba09-74417caedfda",
   "metadata": {},
   "outputs": [
    {
     "data": {
      "text/plain": [
       "<function __main__.<lambda>(name)>"
      ]
     },
     "execution_count": 9,
     "metadata": {},
     "output_type": "execute_result"
    }
   ],
   "source": [
    "f"
   ]
  },
  {
   "cell_type": "code",
   "execution_count": 10,
   "id": "aa17d998-f8f3-40d6-8ebc-4f9ea76524cf",
   "metadata": {},
   "outputs": [
    {
     "data": {
      "text/plain": [
       "{'key': 'ha'}"
      ]
     },
     "execution_count": 10,
     "metadata": {},
     "output_type": "execute_result"
    }
   ],
   "source": [
    "f(\"ha\")"
   ]
  },
  {
   "cell_type": "code",
   "execution_count": 11,
   "id": "cb7fc62c-e1bc-4fb3-a994-9b32975e252d",
   "metadata": {},
   "outputs": [
    {
     "data": {
      "text/html": [
       "<h1>Hello world!</h1>"
      ],
      "text/plain": [
       "<IPython.core.display.HTML object>"
      ]
     },
     "metadata": {},
     "output_type": "display_data"
    }
   ],
   "source": [
    "%%hiccup\n",
    "[h1 \"Hello world!\"]"
   ]
  },
  {
   "cell_type": "code",
   "execution_count": 12,
   "id": "59dfc33f-7733-4104-ac65-2f7bdc0716f2",
   "metadata": {},
   "outputs": [
    {
     "data": {
      "text/html": [
       "<svg width=\"200\" height=\"100\"><circle cx=\"50\" cy=\"50\" r=\"25\" style=\"fill:red\" /></svg>"
      ],
      "text/plain": [
       "<IPython.core.display.HTML object>"
      ]
     },
     "metadata": {},
     "output_type": "display_data"
    }
   ],
   "source": [
    "%%hiccup\n",
    "[svg {width 200 height 100} [circle {cx 50 cy 50 r 25 style \"fill:red\"}]]"
   ]
  },
  {
   "cell_type": "code",
   "execution_count": 13,
   "id": "c4057fe0-5f95-493d-8656-2dba7ebbdb63",
   "metadata": {},
   "outputs": [
    {
     "data": {
      "text/html": [
       "<svg width=\"200\" height=\"100\"><circle cx=\"50\" cy=\"50\" r=\"25\" style=\"fill:blue\" /></svg>"
      ],
      "text/plain": [
       "<IPython.core.display.HTML object>"
      ]
     },
     "metadata": {},
     "output_type": "display_data"
    }
   ],
   "source": [
    "%%hissup\n",
    "[:svg {:width 200 :height 100} [:circle {:cx 50 :cy 50 :r 25 :style \"fill:blue\"}]]"
   ]
  },
  {
   "cell_type": "code",
   "execution_count": 14,
   "id": "7c224b0f-354f-47e8-bd8a-a757fe5bea3c",
   "metadata": {},
   "outputs": [],
   "source": [
    "def subs(s, m):\n",
    "    return s[m:]\n",
    "\n",
    "def plus(a, b):\n",
    "    return a + b"
   ]
  },
  {
   "cell_type": "code",
   "execution_count": 15,
   "id": "dac46081-51ba-4831-99e0-ca62255fb0a8",
   "metadata": {},
   "outputs": [
    {
     "data": {
      "text/html": [
       "<h1>hiccup</h1>"
      ],
      "text/plain": [
       "<IPython.core.display.HTML object>"
      ]
     },
     "metadata": {},
     "output_type": "display_data"
    }
   ],
   "source": [
    "%%hiccup\n",
    "[h1 (subs (subs \"hi_hiccup\" (plus 1 1)) 1)]"
   ]
  },
  {
   "cell_type": "code",
   "execution_count": 16,
   "id": "8115bf29-e29f-4f88-881e-59d217263ffa",
   "metadata": {},
   "outputs": [
    {
     "data": {
      "text/html": [
       "<h1>hissup</h1>"
      ],
      "text/plain": [
       "<IPython.core.display.HTML object>"
      ]
     },
     "metadata": {},
     "output_type": "display_data"
    }
   ],
   "source": [
    "%%hissup\n",
    "[:h1 (subs (subs \"hi_hissup\" (plus 1 1)) 1)]"
   ]
  },
  {
   "cell_type": "code",
   "execution_count": null,
   "id": "51bbc4f0-29ca-4297-9efa-7cbef024d54e",
   "metadata": {},
   "outputs": [],
   "source": []
  }
 ],
 "metadata": {
  "kernelspec": {
   "display_name": "Python 3 (ipykernel)",
   "language": "python",
   "name": "python3"
  },
  "language_info": {
   "codemirror_mode": {
    "name": "ipython",
    "version": 3
   },
   "file_extension": ".py",
   "mimetype": "text/x-python",
   "name": "python",
   "nbconvert_exporter": "python",
   "pygments_lexer": "ipython3",
   "version": "3.12.9"
  }
 },
 "nbformat": 4,
 "nbformat_minor": 5
}
