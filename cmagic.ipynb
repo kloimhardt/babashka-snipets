{
 "cells": [
  {
   "cell_type": "markdown",
   "id": "bc9173ce-60ee-4a8f-830a-81b82a8855e0",
   "metadata": {},
   "source": [
    "- This notebook needs to be saved in the state \"Restart Kernel and clear output of all Cells\"\n",
    "- The \"Restart Kernel and run all Cells\" should only be run once\n",
    "- This is because the html \"\\<div\\>\" nodes can somehow easily get mixed up and then the blockly cells are not rendered "
   ]
  },
  {
   "cell_type": "code",
   "execution_count": null,
   "id": "8be7ef69-a1f7-4c5a-b254-2d990223e89c",
   "metadata": {},
   "outputs": [],
   "source": [
    "# ! pip install python_hiccup"
   ]
  },
  {
   "cell_type": "code",
   "execution_count": null,
   "id": "b83f0092-9f07-43a2-85f6-7167b1d7eda0",
   "metadata": {},
   "outputs": [],
   "source": [
    "# ! pip install edn_format"
   ]
  },
  {
   "cell_type": "code",
   "execution_count": null,
   "id": "5d445e39-0eba-4747-ad56-5de9550cf05a",
   "metadata": {},
   "outputs": [],
   "source": [
    "# ! pip install hissp"
   ]
  },
  {
   "cell_type": "code",
   "execution_count": null,
   "id": "125beb51-590a-461c-9bbd-f892818fa508",
   "metadata": {},
   "outputs": [],
   "source": [
    "# ! pip install sympy"
   ]
  },
  {
   "cell_type": "code",
   "execution_count": null,
   "id": "1a22e96f-906f-4b8a-93f3-d05c549d47ab",
   "metadata": {},
   "outputs": [],
   "source": [
    "%%html\n",
    "<script src=\"https://unpkg.com/blockly/blockly_compressed.js\"></script>"
   ]
  },
  {
   "cell_type": "code",
   "execution_count": null,
   "id": "111e51f4-d050-41c7-b6c0-e0ef4cf391a7",
   "metadata": {},
   "outputs": [],
   "source": [
    "import time\n",
    "time.sleep(10)"
   ]
  },
  {
   "cell_type": "code",
   "execution_count": null,
   "id": "29dc9c0c-d388-483a-9c00-7cc36e5b0763",
   "metadata": {},
   "outputs": [],
   "source": [
    "from functools import partial\n",
    "import edn_format\n",
    "\n",
    "def walk(inner, outer, coll):\n",
    "    if isinstance(coll, edn_format.immutable_list.ImmutableList):\n",
    "        return outer([inner(e) for e in coll])\n",
    "    elif isinstance(coll, edn_format.immutable_dict.ImmutableDict):\n",
    "        return outer(dict([inner(e) for e in iter(coll.items())]))\n",
    "    elif isinstance(coll, tuple):\n",
    "        return outer(tuple([inner(e) for e in coll]))\n",
    "    else:\n",
    "        return outer(coll)\n",
    "\n",
    "def postwalk(fn, coll):\n",
    "    return walk(partial(postwalk, fn), fn, coll)"
   ]
  },
  {
   "cell_type": "code",
   "execution_count": null,
   "id": "93120bc7-b59d-4e4f-a2a2-57dd8d799b70",
   "metadata": {},
   "outputs": [],
   "source": [
    "def simpleExecute(coll):\n",
    "    if isinstance(coll, edn_format.edn_lex.Symbol):\n",
    "        return globals().get(str(coll))\n",
    "    elif isinstance(coll, edn_format.edn_lex.Keyword):\n",
    "        return str(coll)[1:]\n",
    "    elif isinstance(coll, tuple):\n",
    "        f = coll[0]\n",
    "        if isinstance(f, str):\n",
    "            return coll\n",
    "        else:\n",
    "            return f(*coll[1:])\n",
    "    else:\n",
    "        return coll\n",
    "\n",
    "def tT(*d):\n",
    "    return d\n",
    "    \n",
    "def ednToHissp(edn):\n",
    "    if isinstance(edn, edn_format.edn_lex.Symbol):\n",
    "        if edn == edn_format.edn_lex.Symbol(\"if-else\"):\n",
    "            return \"ifQzH_else\"\n",
    "        else:\n",
    "            return str(edn)    \n",
    "    elif isinstance(edn, edn_format.edn_lex.Keyword):\n",
    "        return (\"quote\", str(edn)[1:])\n",
    "    elif isinstance(edn, str):\n",
    "        return (\"quote\",edn)\n",
    "    elif isinstance(edn, list):\n",
    "        return tuple([\"tT\"] + edn)\n",
    "    elif isinstance(edn, dict):\n",
    "        return (\"dict\", tuple([\"tT\"] + [(\"tT\",) + e for e in iter(edn.items())]))\n",
    "    else:\n",
    "        return edn\n",
    "\n",
    "replace_def = lambda s:('defun', s[1][0], s[1][1:], s[2]) if s[0]==\"def\" else s\n",
    "ednTxtToData = lambda s: replace_def(postwalk(ednToHissp, edn_format.loads(s)))"
   ]
  },
  {
   "cell_type": "code",
   "execution_count": null,
   "id": "ad78f3cc-e215-4e4c-8e96-1db25ad96901",
   "metadata": {},
   "outputs": [],
   "source": [
    "from IPython.core.magic import (Magics, magics_class, cell_magic)\n",
    "from IPython.display import display, HTML\n",
    "from python_hiccup.html import render\n",
    "from hissp import readerless\n",
    "from hissp import _macro_\n",
    "from uuid import uuid4\n",
    "\n",
    "def html(hiccupString):\n",
    "    display(HTML(render(hiccupString)))\n",
    "    return None\n",
    "    \n",
    "def displayHTML(s):\n",
    "    divid = str(uuid4())\n",
    "    erg = display(HTML(\"<div id='\" + divid + \"'>error</div><script>document.getElementById('\" + divid + \"').innerHTML = \" + s + \" </script>\"))\n",
    "    \n",
    "@magics_class\n",
    "class MyMagics(Magics):\n",
    "    @cell_magic\n",
    "    def inter(self, line, cell):\n",
    "        return postwalk(simpleExecute, edn_format.loads(cell))\n",
    "        \n",
    "    @cell_magic\n",
    "    def hissp(self, line, cell):\n",
    "        erg=eval(readerless(ednTxtToData(cell)))\n",
    "        return erg\n",
    "\n",
    "    @cell_magic\n",
    "    def hissp0(self, line, cell):\n",
    "        erg=ednTxtToData(cell)\n",
    "        return erg\n",
    "        \n",
    "    @cell_magic\n",
    "    def hissp1(self, line, cell):\n",
    "        erg=print(readerless(ednTxtToData(cell)))\n",
    "        return erg\n",
    "\n",
    "    @cell_magic\n",
    "    def scheme(self, line, cell):\n",
    "        erg = displayHTML(\"eval(expressionToJs('\" + cell.replace(\"\\n\", \"\") +\"'))\")\n",
    "        return None\n",
    "        \n",
    "    @cell_magic\n",
    "    def scheme0(self, line, cell):\n",
    "        erg = displayHTML(\"expressionToJs('\" + cell.replace(\"\\n\", \"\") +\"')\")\n",
    "        return None"
   ]
  },
  {
   "cell_type": "code",
   "execution_count": null,
   "id": "c4d210d9-0446-4584-84d1-6a0b9d9e6332",
   "metadata": {},
   "outputs": [],
   "source": [
    "from IPython import get_ipython\n",
    "get_ipython().register_magics(MyMagics)"
   ]
  },
  {
   "cell_type": "code",
   "execution_count": null,
   "id": "8b06a458-f786-4e54-8bf5-5a9f3c97a5c8",
   "metadata": {},
   "outputs": [],
   "source": [
    "%%hissp\n",
    "(define f (lambda (name) {:key name}))"
   ]
  },
  {
   "cell_type": "code",
   "execution_count": null,
   "id": "aa17d998-f8f3-40d6-8ebc-4f9ea76524cf",
   "metadata": {},
   "outputs": [],
   "source": [
    "f(\"ha\")"
   ]
  },
  {
   "cell_type": "code",
   "execution_count": null,
   "id": "cb7fc62c-e1bc-4fb3-a994-9b32975e252d",
   "metadata": {},
   "outputs": [],
   "source": [
    "%%inter\n",
    "(html [:h1 \"Hello world!\"])"
   ]
  },
  {
   "cell_type": "code",
   "execution_count": null,
   "id": "59f52c09-412e-464a-87f3-c8bd026ed23a",
   "metadata": {},
   "outputs": [],
   "source": [
    "%%inter\n",
    "(html [:svg {:width 200 :height 100} [:circle {:cx 50 :cy 50 :r 25 :style \"fill:red\"}]])"
   ]
  },
  {
   "cell_type": "code",
   "execution_count": null,
   "id": "c4057fe0-5f95-493d-8656-2dba7ebbdb63",
   "metadata": {
    "scrolled": true
   },
   "outputs": [],
   "source": [
    "%%hissp\n",
    "(html [:svg {:width 200 :height 100} [:circle {:cx 50 :cy 50 :r 25 :style \"fill:blue\"}]])"
   ]
  },
  {
   "cell_type": "code",
   "execution_count": null,
   "id": "7c224b0f-354f-47e8-bd8a-a757fe5bea3c",
   "metadata": {},
   "outputs": [],
   "source": [
    "def subs(s, m):\n",
    "    return s[m:]\n",
    "\n",
    "def plus(a, b):\n",
    "    return a + b\n",
    "\n",
    "num = 1"
   ]
  },
  {
   "cell_type": "code",
   "execution_count": null,
   "id": "dac46081-51ba-4831-99e0-ca62255fb0a8",
   "metadata": {},
   "outputs": [],
   "source": [
    "%%inter\n",
    "(html [:h3 (subs (subs \"hi_hiccup\" (plus 1 num)) 1)])"
   ]
  },
  {
   "cell_type": "code",
   "execution_count": null,
   "id": "baa43c29-9eef-4b68-b342-b8e969e075df",
   "metadata": {},
   "outputs": [],
   "source": [
    "%%inter\n",
    "[:h3 (subs (subs \"hi_hiccup\" (plus 1 num)) 1)]"
   ]
  },
  {
   "cell_type": "code",
   "execution_count": null,
   "id": "8115bf29-e29f-4f88-881e-59d217263ffa",
   "metadata": {},
   "outputs": [],
   "source": [
    "%%hissp\n",
    "(html [:h3 (subs (subs \"hi_hissp\" (plus 1 num)) 1)])"
   ]
  },
  {
   "cell_type": "code",
   "execution_count": null,
   "id": "0f1e7e0e-c152-441f-9ee0-e39b14048186",
   "metadata": {},
   "outputs": [],
   "source": [
    "%%hissp\n",
    "[:h3 (subs (subs \"hi_hissp\" (plus 1 num)) 1)]"
   ]
  },
  {
   "cell_type": "code",
   "execution_count": null,
   "id": "51bbc4f0-29ca-4297-9efa-7cbef024d54e",
   "metadata": {},
   "outputs": [],
   "source": [
    "%%hissp0\n",
    "(html [:h3 (subs (subs \"hi_hissp\" (plus 1 num)) 1)])"
   ]
  },
  {
   "cell_type": "code",
   "execution_count": null,
   "id": "c36f2a11-02dc-4522-80d3-380d656a9dfa",
   "metadata": {},
   "outputs": [],
   "source": [
    "%%hissp1\n",
    "(html [:h3 (subs (subs \"hi_hissp\" (plus 1 num)) 1)])"
   ]
  },
  {
   "cell_type": "code",
   "execution_count": null,
   "id": "818446c6-39bc-4509-85ae-27a298180cf8",
   "metadata": {
    "scrolled": true
   },
   "outputs": [],
   "source": [
    "%%html\n",
    "<script>\n",
    "Blockly.defineBlocksWithJsonArray([\n",
    "{\n",
    "             \"type\": \"list-h-2\",\n",
    "             \"message0\": \" %1 \\u007C %2\",\n",
    "             \"args0\": [\n",
    "                 {\n",
    "                     \"type\": \"input_value\",\n",
    "                     \"name\": \"args-1\",\n",
    "                 },\n",
    "                 {\n",
    "                     \"type\": \"input_value\",\n",
    "                     \"name\": \"args-2\"\n",
    "                 }\n",
    "             ],\n",
    "             \"inputsInline\": true,\n",
    "             \"output\": null,\n",
    "             \"colour\": 70,\n",
    "             \"tooltip\": \"\",\n",
    "             \"helpUrl\": \"\"\n",
    "         },\n",
    "         {\n",
    "             \"type\": \"num\",\n",
    "             \"message0\": \"%1\",\n",
    "             \"args0\": [\n",
    "                 {\n",
    "                     \"type\": \"field_input\",\n",
    "                     \"name\": \"nummer\",\n",
    "                     \"text\": \"0.0\"\n",
    "                 }\n",
    "             ],\n",
    "             \"output\": null,\n",
    "             \"colour\": \"#A65C81\",\n",
    "             \"tooltip\": \"\",\n",
    "             \"helpUrl\": \"\"\n",
    "         },\n",
    "         {\n",
    "             \"type\": \"funs-h-2-inp\",\n",
    "             \"message0\": \"%1 %2\",\n",
    "             \"args0\": [\n",
    "                 {\n",
    "                     \"type\": \"field_input\",\n",
    "                     \"name\": \"kopf\",\n",
    "                     \"text\": \"\"\n",
    "                 },\n",
    "                 {\n",
    "                     \"type\": \"input_value\",\n",
    "                     \"name\": \"args-2\"\n",
    "                 }\n",
    "             ],\n",
    "             \"inputsInline\": true,\n",
    "             \"output\": null,\n",
    "             \"colour\": 270,\n",
    "             \"tooltip\": \"\",\n",
    "             \"helpUrl\": \"\"\n",
    "         },\n",
    "         {\n",
    "             \"type\": \"funs-h-3-inp\",\n",
    "             \"message0\": \"%1 %2 %3\",\n",
    "             \"args0\": [\n",
    "                 {\n",
    "                     \"type\": \"field_input\",\n",
    "                     \"name\": \"kopf\",\n",
    "                     \"text\": \"\"\n",
    "                 },\n",
    "                 {\n",
    "                     \"type\": \"input_value\",\n",
    "                     \"name\": \"args-2\"\n",
    "                 },\n",
    "                 {\n",
    "                     \"type\": \"input_value\",\n",
    "                     \"name\": \"args-3\"\n",
    "                 }\n",
    "             ],\n",
    "             \"inputsInline\": true,\n",
    "             \"output\": null,\n",
    "             \"colour\": 140,\n",
    "             \"tooltip\": \"\",\n",
    "             \"helpUrl\": \"\"\n",
    "         },\n",
    "    {\n",
    "             \"type\": \"infi-h-3-inp\",\n",
    "             \"message0\": \"%1 %2 %3\",\n",
    "             \"args0\": [\n",
    "                 {\"type\": \"input_value\",\n",
    "                  \"name\": \"args-2\"},\n",
    "                 {\"type\": \"field_input\",\n",
    "                  \"name\": \"kopf\",\n",
    "                  \"text\": \"\"\n",
    "                 },\n",
    "                 {\"type\": \"input_value\",\n",
    "                  \"name\": \"args-3\"}],\n",
    "             \"inputsInline\": true,\n",
    "             \"output\": null,\n",
    "             \"colour\": 140,\n",
    "             \"tooltip\": \"\",\n",
    "             \"helpUrl\": \"\"}\n",
    "     ]);\n",
    "</script>"
   ]
  },
  {
   "cell_type": "code",
   "execution_count": null,
   "id": "4caaecdb-3406-43f8-b8c4-481c8e970c4f",
   "metadata": {},
   "outputs": [],
   "source": [
    "import time\n",
    "time.sleep(5)"
   ]
  },
  {
   "cell_type": "code",
   "execution_count": null,
   "id": "213fb004-0d6d-4a05-8352-afa10738cbc1",
   "metadata": {},
   "outputs": [],
   "source": [
    "%%html\n",
    "<script>\n",
    "     var toolbox = {\n",
    "         \"kind\": \"categoryToolbox\",\n",
    "         \"contents\": [\n",
    "             {\n",
    "                 \"kind\": \"category\",\n",
    "                 \"name\": \">\",\n",
    "                 \"contents\": [\n",
    "                     {\"kind\": \"block\", \"type\": \"num\"},\n",
    "                     {\"kind\": \"block\", \"type\": \"funs-h-2-inp\"},\n",
    "                     {\"kind\": \"block\", \"type\": \"funs-h-3-inp\"},\n",
    "                 ]\n",
    "     }]}\n",
    "</script>"
   ]
  },
  {
   "cell_type": "code",
   "execution_count": null,
   "id": "8d18502e-b150-4697-9eb9-26c3adaa44e4",
   "metadata": {},
   "outputs": [],
   "source": [
    "%%html\n",
    "<div id=\"blocklyDiv1\" style=\"height: 90%\"></div>\n",
    "<div>Footer</div><h1>2</h1><h1>3</h1><h1>4</h1><h1>5</h1>\n",
    "<script>\n",
    "var workspace1 = Blockly.inject('blocklyDiv1', {\"toolbox\": toolbox, \"sounds\": false});\n",
    "</script>"
   ]
  },
  {
   "cell_type": "code",
   "execution_count": null,
   "id": "d0b01664-6b09-449c-bb1e-577b1cac6eaa",
   "metadata": {},
   "outputs": [],
   "source": [
    "%%html\n",
    "<script>\n",
    "var xs = \"<xml><block id=\\\"funs-h-2-inpid1\\\" type=\\\"funs-h-2-inp\\\"><field name=\\\"kopf\\\">b</field><value name=\\\"args-2\\\"><block id=\\\"num2-funs-h-2-inpid1\\\" type=\\\"num\\\"><field name=\\\"nummer\\\">1</field></block></value></block></xml>\"\n",
    "var xmlDom = Blockly.utils.xml.textToDom(xs);\n",
    "Blockly.Xml.clearWorkspaceAndLoadFromXml(xmlDom, workspace1)\n",
    "</script>"
   ]
  },
  {
   "cell_type": "code",
   "execution_count": null,
   "id": "7596e793-0358-47cf-a14b-280ba6446d5f",
   "metadata": {},
   "outputs": [],
   "source": [
    "from sympy import symbols,diff,log\n",
    "x=symbols(\"x\")\n",
    "base=symbols(\"base\")\n",
    "\n",
    "def div(x,y):\n",
    "    return x/y"
   ]
  },
  {
   "cell_type": "code",
   "execution_count": null,
   "id": "5973dc83-39e9-4b44-a1c3-842d770517ed",
   "metadata": {},
   "outputs": [],
   "source": [
    "%%hissp\n",
    "(def (h_logarithm base x)\n",
    " (div (log x) (log base)))"
   ]
  },
  {
   "cell_type": "code",
   "execution_count": null,
   "id": "5fb97e98-80ee-4ec0-968f-56ac9d6bef6b",
   "metadata": {},
   "outputs": [],
   "source": [
    "%%hissp\n",
    "(h_logarithm 8.0 64.0)"
   ]
  },
  {
   "cell_type": "code",
   "execution_count": null,
   "id": "c0a3f1aa-816b-49b8-a05d-7290e7f85302",
   "metadata": {},
   "outputs": [],
   "source": [
    "%%hissp\n",
    "(def (h_log_base base) \n",
    " (partial h_logarithm base))"
   ]
  },
  {
   "cell_type": "code",
   "execution_count": null,
   "id": "532f11fb-46ab-44cc-a079-9b90577ac8a0",
   "metadata": {},
   "outputs": [],
   "source": [
    "%%hissp\n",
    "((h_log_base 8.0) 64.0)"
   ]
  },
  {
   "cell_type": "code",
   "execution_count": null,
   "id": "ad759a4e-6f90-4a80-8d0e-219163df6b62",
   "metadata": {},
   "outputs": [],
   "source": [
    "%%hissp\n",
    "(diff ((h_log_base 8) x) x)"
   ]
  },
  {
   "cell_type": "code",
   "execution_count": null,
   "id": "2ec1d1a9-f098-42da-9df1-1a91ba3ede89",
   "metadata": {},
   "outputs": [],
   "source": [
    "%%html\n",
    "<script src=\"https://kloimhardt.github.io/blog/js/emmy.js/build/emmy_bundle.js\"></script>\n",
    "<script>\n",
    "     var loadEnv = (name) => {\n",
    "         window[name] = emmy[name];\n",
    "         return name;\n",
    "     }\n",
    "    </script>"
   ]
  },
  {
   "cell_type": "code",
   "execution_count": null,
   "id": "f9f92368-0056-4e7a-8eef-b665e6d2a54a",
   "metadata": {},
   "outputs": [],
   "source": [
    "%%html\n",
    "<script>\n",
    "var symbol = emmy.symbol;\n",
    "\n",
    "var specialchars =\n",
    "[[\"\", /\\:/g],\n",
    " [\"__gt_\", /->/g],\n",
    " [\"symbol_$1\", /\\'(\\w+)/g],\n",
    " [\"$1_dot_$2\", /(\\d+)\\.(\\d+)/g],\n",
    " [\" minus_$2\", /(\\s+)\\-(\\w+)/g],\n",
    " [\"$1_\", /(\\w+)\\-/g],\n",
    " [\"[ / $1 $2 ],\", /(\\w+)\\/(\\d+)/g]];\n",
    "\n",
    "var post_specialchars =\n",
    "[[\"$1.$2\", /(\\d+)_dot_(\\d+)/g],\n",
    " [\"$1e-$2\", /(\\d+)e_(\\d+)/],\n",
    " [\"-$1\", /minus_(\\w+)/g],\n",
    " //case symbol with hat 'v_r^x\n",
    " [\"symbol_$1^$2\", /symbol_(\\w+)expt(\\w+)/]]\n",
    "\n",
    "var mathfns =\n",
    "[[\"div\", /\\//g],\n",
    " [\"mul\", /\\*/g],\n",
    " [\"sub\", /\\-/g],\n",
    " [\"add\", /\\+/g],\n",
    " [\"expt\", /\\^/g]]\n",
    "\n",
    "mathfns.map(x=> x[0]).map(loadEnv);\n",
    "\n",
    "var replaceMath = (txt) =>\n",
    "specialchars.concat(mathfns)\n",
    ".reduce((s,r) => s.replace(r[1],r[0]), txt);\n",
    "\n",
    "var swapFirst = (j) =>\n",
    "j.constructor == Array && mathfns.map(x=> x[0]).includes(j[1])\n",
    "? [j[1], j[0]].concat(j.slice(2)).map(swapFirst)\n",
    ": j.constructor == Array\n",
    "? j.map(swapFirst)\n",
    ": j;\n",
    "\n",
    "var insertCommas = (txt) =>\n",
    "txt.replace(/(\\w+)/g,'\"$1\",')\n",
    ".replace(/\\,\\s+\\]/g,\" ]\");\n",
    "\n",
    "var makeBrackets = (txt) =>\n",
    "txt.trim()\n",
    ".replace(/\\(/g,\"[ \")\n",
    "           .replace(/\\)/g,\" ],\")\n",
    ".replace(/,$/,\"\");\n",
    "\n",
    "var textToJson = (txt) =>\n",
    "insertCommas(replaceMath(makeBrackets(txt)));\n",
    "\n",
    "var drv = emmy.D;\n",
    "\n",
    "var replaceD = (j) =>\n",
    "j.constructor == Array\n",
    "? j.map(replaceD)\n",
    ": j.constructor == String && j == \"D\"\n",
    "? \"drv\"\n",
    ": j.constructor == String\n",
    "? post_specialchars.reduce((s,r) => s.replace(r[1],r[0]), j)\n",
    ": j;\n",
    "\n",
    "[\"to_infix\", \"simplify\"].map(loadEnv);\n",
    "\n",
    "var preAmble = (j) =>\n",
    "j[0] != \"define\" && j[0] != \"def\"\n",
    "? [\"to_infix\", j]\n",
    ": j;\n",
    "\n",
    "var identity = x => x;\n",
    "var retrn = x => x;\n",
    "\n",
    "var edgeCases = (j) =>\n",
    "(j[0] === \"define\" || j[0] === \"def\")\n",
    "&& j[2].constructor == Array && j[2][0] === \"let\"\n",
    "&& j[1].constructor == String\n",
    "? [\"identity\", \"'let not allowed in variable definition'\"]\n",
    ": j;\n",
    "\n",
    "var letFlat2 = (j) =>\n",
    "j[0] === \"let\"\n",
    "? j[1].concat(letFlat2(j[2]))\n",
    ": [j];\n",
    "\n",
    "var constructLet = (j) =>\n",
    "[\"let\", j.slice(0, j.length - 1), j[j.length - 1]]\n",
    "\n",
    "var letFlat = (j) =>\n",
    "j.constructor == Array && j[0] === \"let\"\n",
    "? constructLet(letFlat2(j))\n",
    ": j.constructor == Array\n",
    "? j.map(letFlat)\n",
    ": j;\n",
    "\n",
    "var modifyJson = (j) =>\n",
    "preAmble(replaceD(letFlat(edgeCases(swapFirst(j)))));\n",
    "\n",
    "var makeFun = (j, callBack) =>\n",
    "\"var \" + j[1][0] + \" = (\" + j[1].slice(1) + \") => \"\n",
    "+ callBack(j[2]) +\";\";\n",
    "\n",
    "var makeFunFun = (j, callBack) =>\n",
    "\"var \" + j[1][0][0] + \" = (\" + j[1][0].slice(1) + \") => \"\n",
    "+ \"(\" + j[1].slice(1) +\") => \" + callBack(j[2]) + \";\";\n",
    "\n",
    "var smap = (f, v) =>\n",
    "v.length === 1\n",
    "? f(v[0]) +\";\"\n",
    ": f(v[0]) +\"; \"  + smap(f, v.slice(1));\n",
    "\n",
    "var makeLet = (j, callBack) =>\n",
    "\"{\" + smap((l) => \"let \" + l[0] + \" = \" + callBack(l[1]), j[1])\n",
    "+ \" return \" +  callBack(j[2]) + \"; }\"\n",
    "\n",
    "var jsonToJs = (j) =>\n",
    "j.constructor == Array && j[0] === \"let\"\n",
    "? makeLet(j, jsonToJs)\n",
    ":j.constructor == Array && (j[0] === \"define\" || j[0] === \"def\")\n",
    "&& j[1].constructor == Array\n",
    "&& j[1][0].constructor == Array\n",
    "? makeFunFun(j, jsonToJs)\n",
    ":j.constructor == Array && (j[0] === \"define\" || j[0] === \"def\")\n",
    "&& j[1].constructor == Array\n",
    "? makeFun(j, jsonToJs)\n",
    ": j.constructor == Array && j[0] === \"lambda\"\n",
    "? \"(\" + j[1] + \") => \" + jsonToJs(j[2])\n",
    ":j.constructor == Array && (j[0] === \"define\" || j[0] === \"def\")\n",
    "&& j[1].constructor == String\n",
    "? \"var \" + j[1] + \" = \" + jsonToJs(j[2]) + \";\"\n",
    ":j.constructor == String && j.substring(0, 7) == \"symbol_\"\n",
    "? 'symbol(\"' + j.substring(7, j.length) + '\")'\n",
    ":j.constructor == Array\n",
    "? jsonToJs(j[0]) + \"(\"  +  j.slice(1).map(jsonToJs) + \")\"\n",
    ": j;\n",
    "\n",
    "var expressionToJs = (expr) =>\n",
    "jsonToJs(modifyJson(JSON.parse(textToJson(expr))));\n",
    "\n",
    "[\"sin\", \"cos\", \"pi\", \"velocity\", \"dot_product\",\n",
    "        \"up\", \"nth\", \"Gamma\", \"compose\", \"literal_function\",\n",
    "        \"definite_integral\", \"coordinate\", \"minimize\",\n",
    "        \"linear_interpolants\", \"multidimensional_minimize\",\n",
    "        \"make_path\", \"count\",\n",
    "        \"square\", \"partial\", \"ref\", \"sqrt\", \"atan\", \"down\",\n",
    "        \"solve_linear_left\", \"state_advancer\", \"cross_product\",\n",
    "        \"Rx\", \"Ry\", \"Rz\", \"osculating_path\", \"log\"].map(loadEnv);\n",
    "\n",
    "var show_expression = simplify;\n",
    "var vector_length = count;\n",
    "var velocities = velocity;\n",
    "var coordinates = coordinate;\n",
    "var time = state => nth(state, 0);\n",
    "var get = (obj, field) => obj[field.toString()]; null;\n",
    "</script>"
   ]
  },
  {
   "cell_type": "code",
   "execution_count": null,
   "id": "4dac7a0c-83b1-46ae-a6c3-815107966cb2",
   "metadata": {},
   "outputs": [],
   "source": [
    "%%scheme\n",
    "(+ 4 5 6)"
   ]
  },
  {
   "cell_type": "code",
   "execution_count": null,
   "id": "83bcb049-8a40-4624-a68e-55814cd956da",
   "metadata": {},
   "outputs": [],
   "source": [
    "%%html\n",
    "<script>var x = symbol('x'); base=symbol('base') </script>"
   ]
  },
  {
   "cell_type": "code",
   "execution_count": null,
   "id": "278f6316-c305-485e-ba7f-97d9b583ac4a",
   "metadata": {
    "jupyter": {
     "source_hidden": true
    }
   },
   "outputs": [],
   "source": [
    "%%html\n",
    "<div id=\"blocklyDiv3\" style=\"height: 90%\"></div>\n",
    "<div></div><h1>2</h1>\n",
    "<script>\n",
    "var workspace3 = Blockly.inject('blocklyDiv3', {\"toolbox\": toolbox, \"sounds\": false});\n",
    "</script>"
   ]
  },
  {
   "cell_type": "code",
   "execution_count": null,
   "id": "01491510-d2dd-4e13-9e0d-5c238443aa5b",
   "metadata": {},
   "outputs": [],
   "source": [
    "diff(log(x),x)"
   ]
  },
  {
   "cell_type": "code",
   "execution_count": null,
   "id": "98fa3fce-baa8-48d9-ae3a-f1345a07a040",
   "metadata": {
    "jupyter": {
     "source_hidden": true
    }
   },
   "outputs": [],
   "source": [
    "%%html\n",
    "<script>\n",
    "var xs3 = \"<xml><block id=\\\"funs-h-3-inp-10-10\\\" type=\\\"funs-h-3-inp\\\" x=\\\"10\\\" y=\\\"10\\\"><field name=\\\"kopf\\\">diff</field><value name=\\\"args-2\\\"><block id=\\\"funs-h-2-inp2-funs-h-3-inp-10-10\\\" type=\\\"funs-h-2-inp\\\"><field name=\\\"kopf\\\">log</field><value name=\\\"args-2\\\"><block id=\\\"num2-funs-h-2-inp2-funs-h-3-inp-10-10\\\" type=\\\"num\\\"><field name=\\\"nummer\\\">x</field></block></value></block></value><value name=\\\"args-3\\\"><block id=\\\"num3-funs-h-3-inp-10-10\\\" type=\\\"num\\\"><field name=\\\"nummer\\\">x</field></block></value></block></xml>\"\n",
    "\n",
    "Blockly.Xml.clearWorkspaceAndLoadFromXml(Blockly.utils.xml.textToDom(xs3), workspace3)\n",
    "</script>"
   ]
  },
  {
   "cell_type": "code",
   "execution_count": null,
   "id": "449dfc25-0c55-4a0e-b6a9-33e51840ac0d",
   "metadata": {},
   "outputs": [],
   "source": [
    "%%html\n",
    "<div id=\"blocklyDiv2\" style=\"height: 90%\"></div>\n",
    "<div></div><h1>2</h1><h1>3</h1>\n",
    "<script>\n",
    "var workspace2 = Blockly.inject('blocklyDiv2', {\"toolbox\": toolbox, \"sounds\": false});\n",
    "</script>"
   ]
  },
  {
   "cell_type": "code",
   "execution_count": null,
   "id": "9e56a349-c4be-41f6-8169-57adba0f5608",
   "metadata": {},
   "outputs": [],
   "source": [
    "def logarithm(base,x):\n",
    "    return log(x)/log(base)"
   ]
  },
  {
   "cell_type": "code",
   "execution_count": null,
   "id": "846d2a6f-df33-4ab8-b0f8-b373221ec84c",
   "metadata": {},
   "outputs": [],
   "source": [
    "%%scheme\n",
    "(def (logarithm base x) \n",
    " (retrn ((log x) / (log base))))"
   ]
  },
  {
   "cell_type": "code",
   "execution_count": null,
   "id": "68e4e537-de77-4700-b0c0-72c4860a53b1",
   "metadata": {},
   "outputs": [],
   "source": [
    "%%html\n",
    "<script>\n",
    "var xs2 = \"<xml><block id=\\\"funs-h-3-inp-10-10\\\" inline=\\\"false\\\" type=\\\"funs-h-3-inp\\\" x=\\\"10\\\" y=\\\"10\\\"><field name=\\\"kopf\\\">def</field><value name=\\\"args-2\\\"><block id=\\\"funs-h-3-inp2-funs-h-3-inp-10-10\\\" type=\\\"funs-h-3-inp\\\"><field name=\\\"kopf\\\">logarithm</field><value name=\\\"args-2\\\"><block id=\\\"num2-funs-h-3-inp2-funs-h-3-inp-10-10\\\" type=\\\"num\\\"><field name=\\\"nummer\\\">base</field></block></value><value name=\\\"args-3\\\"><block id=\\\"num3-funs-h-3-inp2-funs-h-3-inp-10-10\\\" type=\\\"num\\\"><field name=\\\"nummer\\\">x</field></block></value></block></value><value name=\\\"args-3\\\"><block id=\\\"infi-h-3-inp3-funs-h-3-inp-10-10\\\" type=\\\"infi-h-3-inp\\\"><field name=\\\"kopf\\\">/</field><value name=\\\"args-2\\\"><block id=\\\"funs-h-2-inp2-infi-h-3-inp3-funs-h-3-inp-10-10\\\" type=\\\"funs-h-2-inp\\\"><field name=\\\"kopf\\\">log</field><value name=\\\"args-2\\\"><block id=\\\"num2-funs-h-2-inp2-infi-h-3-inp3-funs-h-3-inp-10-10\\\" type=\\\"num\\\"><field name=\\\"nummer\\\">x</field></block></value></block></value><value name=\\\"args-3\\\"><block id=\\\"funs-h-2-inp3-infi-h-3-inp3-funs-h-3-inp-10-10\\\" type=\\\"funs-h-2-inp\\\"><field name=\\\"kopf\\\">log</field><value name=\\\"args-2\\\"><block id=\\\"num2-funs-h-2-inp3-infi-h-3-inp3-funs-h-3-inp-10-10\\\" type=\\\"num\\\"><field name=\\\"nummer\\\">base</field></block></value></block></value></block></value></block></xml>\"\n",
    "Blockly.Xml.clearWorkspaceAndLoadFromXml(Blockly.utils.xml.textToDom(xs2), workspace2)\n",
    "</script>"
   ]
  },
  {
   "cell_type": "code",
   "execution_count": null,
   "id": "d40b8893-580a-45bd-8f0d-6d218ff900ec",
   "metadata": {},
   "outputs": [],
   "source": [
    "%%html\n",
    "<div id=\"blocklyDiv5\" style=\"height: 90%\"></div>\n",
    "<div></div><h1>2</h1>\n",
    "<script>\n",
    "var workspace5 = Blockly.inject('blocklyDiv5', {\"toolbox\": toolbox, \"sounds\": false});\n",
    "</script>"
   ]
  },
  {
   "cell_type": "code",
   "execution_count": null,
   "id": "55760d15-795b-475c-a435-af93f12541eb",
   "metadata": {},
   "outputs": [],
   "source": [
    "logarithm(8.0, 64.0)"
   ]
  },
  {
   "cell_type": "code",
   "execution_count": null,
   "id": "08a51720-b2d2-4207-9761-65720139d165",
   "metadata": {},
   "outputs": [],
   "source": [
    "%%scheme\n",
    "(logarithm 8.0 64.0)"
   ]
  },
  {
   "cell_type": "code",
   "execution_count": null,
   "id": "3c39775b-4918-42ce-b037-3477da83a224",
   "metadata": {},
   "outputs": [],
   "source": [
    "%%html\n",
    "<script>\n",
    "var xs5 = \"<xml><block id=\\\"funs-h-3-inp-10-10\\\" type=\\\"funs-h-3-inp\\\" x=\\\"10\\\" y=\\\"10\\\"><field name=\\\"kopf\\\">logarithm</field><value name=\\\"args-2\\\"><block id=\\\"num2-funs-h-3-inp-10-10\\\" type=\\\"num\\\"><field name=\\\"nummer\\\">8.0</field></block></value><value name=\\\"args-3\\\"><block id=\\\"num3-funs-h-3-inp-10-10\\\" type=\\\"num\\\"><field name=\\\"nummer\\\">64.0</field></block></value></block></xml>\"\n",
    "Blockly.Xml.clearWorkspaceAndLoadFromXml(Blockly.utils.xml.textToDom(xs5), workspace5)\n",
    "</script>"
   ]
  },
  {
   "cell_type": "code",
   "execution_count": null,
   "id": "afffb5d3-26b2-4029-bd55-be05326e57f5",
   "metadata": {},
   "outputs": [],
   "source": [
    "%%html\n",
    "<div id=\"blocklyDiv6\" style=\"height: 90%\"></div>\n",
    "<div></div><h1>2</h1><h1>3</h1>\n",
    "<script>\n",
    "var workspace6 = Blockly.inject('blocklyDiv6', {\"toolbox\": toolbox, \"sounds\": false});\n",
    "</script>"
   ]
  },
  {
   "cell_type": "code",
   "execution_count": null,
   "id": "4d0aafcb-225b-4a43-a3db-558b379e8f7c",
   "metadata": {},
   "outputs": [],
   "source": [
    "def log_base(base):\n",
    "    return partial(logarithm, base)"
   ]
  },
  {
   "cell_type": "code",
   "execution_count": null,
   "id": "b6ee8dfc-6db4-46af-ac76-021456604b36",
   "metadata": {},
   "outputs": [],
   "source": [
    "%%scheme\n",
    "(def (log_base base) \n",
    " (retrn (partial logarithm base)))"
   ]
  },
  {
   "cell_type": "code",
   "execution_count": null,
   "id": "60b484d3-9fcc-42e7-a8b9-a47d9644b5b1",
   "metadata": {},
   "outputs": [],
   "source": [
    "%%html\n",
    "<script>\n",
    "var xs6 = \"<xml><block id=\\\"funs-h-3-inp-10-10\\\" inline=\\\"false\\\" type=\\\"funs-h-3-inp\\\" x=\\\"10\\\" y=\\\"10\\\"><field name=\\\"kopf\\\">def</field><value name=\\\"args-2\\\"><block id=\\\"funs-h-2-inp2-funs-h-3-inp-10-10\\\" type=\\\"funs-h-2-inp\\\"><field name=\\\"kopf\\\">log_base</field><value name=\\\"args-2\\\"><block id=\\\"num2-funs-h-2-inp2-funs-h-3-inp-10-10\\\" type=\\\"num\\\"><field name=\\\"nummer\\\">base</field></block></value></block></value><value name=\\\"args-3\\\"><block id=\\\"funs-h-2-inp3-funs-h-3-inp-10-10\\\" type=\\\"funs-h-2-inp\\\"><field name=\\\"kopf\\\">return</field><value name=\\\"args-2\\\"><block id=\\\"funs-h-3-inp2-funs-h-2-inp3-funs-h-3-inp-10-10\\\" type=\\\"funs-h-3-inp\\\"><field name=\\\"kopf\\\">partial</field><value name=\\\"args-2\\\"><block id=\\\"num2-funs-h-3-inp2-funs-h-2-inp3-funs-h-3-inp-10-10\\\" type=\\\"num\\\"><field name=\\\"nummer\\\">logarithm</field></block></value><value name=\\\"args-3\\\"><block id=\\\"num3-funs-h-3-inp2-funs-h-2-inp3-funs-h-3-inp-10-10\\\" type=\\\"num\\\"><field name=\\\"nummer\\\">base</field></block></value></block></value></block></value></block></xml>\"\n",
    "Blockly.Xml.clearWorkspaceAndLoadFromXml(Blockly.utils.xml.textToDom(xs6), workspace6)\n",
    "</script>"
   ]
  },
  {
   "cell_type": "code",
   "execution_count": null,
   "id": "5483963f-45a1-4334-bc68-441ec7259636",
   "metadata": {},
   "outputs": [],
   "source": [
    "%%html\n",
    "<div id=\"blocklyDiv7\" style=\"height: 90%\"></div>\n",
    "<div></div><h1>2</h1><h1>3</h1>\n",
    "<script>\n",
    "var workspace7 = Blockly.inject('blocklyDiv7', {\"toolbox\": toolbox, \"sounds\": false});\n",
    "</script>"
   ]
  },
  {
   "cell_type": "code",
   "execution_count": null,
   "id": "fec3ec63-a2f7-4ca4-8129-911dff274fb8",
   "metadata": {},
   "outputs": [],
   "source": [
    "log_base(8.0)(64.0)"
   ]
  },
  {
   "cell_type": "code",
   "execution_count": null,
   "id": "a6e61cda-cf60-42a9-8dd2-166f8c3aa975",
   "metadata": {},
   "outputs": [],
   "source": [
    "%%scheme\n",
    "((log_base 8.0) 64.0)"
   ]
  },
  {
   "cell_type": "code",
   "execution_count": null,
   "id": "2ad42f4c-fcf9-4662-9a04-bb404503d412",
   "metadata": {},
   "outputs": [],
   "source": [
    "%%html\n",
    "<script>\n",
    "var xs7 = \"<xml><block id=\\\"list-h-2-10-10\\\" type=\\\"list-h-2\\\" x=\\\"10\\\" y=\\\"10\\\"><value name=\\\"args-1\\\"><block id=\\\"funs-h-2-inp1-list-h-2-10-10\\\" type=\\\"funs-h-2-inp\\\"><field name=\\\"kopf\\\">log_base</field><value name=\\\"args-2\\\"><block id=\\\"num2-funs-h-2-inp1-list-h-2-10-10\\\" type=\\\"num\\\"><field name=\\\"nummer\\\">8.0</field></block></value></block></value><value name=\\\"args-2\\\"><block id=\\\"num2-list-h-2-10-10\\\" type=\\\"num\\\"><field name=\\\"nummer\\\">64.0</field></block></value></block></xml>\"\n",
    "Blockly.Xml.clearWorkspaceAndLoadFromXml(Blockly.utils.xml.textToDom(xs7), workspace7)\n",
    "</script>"
   ]
  },
  {
   "cell_type": "code",
   "execution_count": null,
   "id": "3c9fb4d6-1d99-469c-8c2b-962453b564bb",
   "metadata": {},
   "outputs": [],
   "source": [
    "%%html\n",
    "<div id=\"blocklyDiv8\" style=\"height: 90%\"></div>\n",
    "<div></div><h1>2</h1><h1>3</h1>\n",
    "<script>\n",
    "var workspace8 = Blockly.inject('blocklyDiv8', {\"toolbox\": toolbox, \"sounds\": false});\n",
    "</script>"
   ]
  },
  {
   "cell_type": "code",
   "execution_count": null,
   "id": "9604d765-50d9-4845-bd86-900e2fc92204",
   "metadata": {},
   "outputs": [],
   "source": [
    "diff(log_base(8.0)(x), x)"
   ]
  },
  {
   "cell_type": "code",
   "execution_count": null,
   "id": "a78d03ea-a2f6-462e-b6f1-4fe7f0190f97",
   "metadata": {},
   "outputs": [],
   "source": [
    "%%html\n",
    "<script>\n",
    "//(diff ((log_base 8.0) x) x)\n",
    "var xs8 = \"<xml><block id=\\\"funs-h-3-inp-10-10\\\" type=\\\"funs-h-3-inp\\\" x=\\\"10\\\" y=\\\"10\\\"><field name=\\\"kopf\\\">diff</field><value name=\\\"args-2\\\"><block id=\\\"list-h-22-funs-h-3-inp-10-10\\\" type=\\\"list-h-2\\\"><value name=\\\"args-1\\\"><block id=\\\"funs-h-2-inp1-list-h-22-funs-h-3-inp-10-10\\\" type=\\\"funs-h-2-inp\\\"><field name=\\\"kopf\\\">log_base</field><value name=\\\"args-2\\\"><block id=\\\"num2-funs-h-2-inp1-list-h-22-funs-h-3-inp-10-10\\\" type=\\\"num\\\"><field name=\\\"nummer\\\">8.0</field></block></value></block></value><value name=\\\"args-2\\\"><block id=\\\"num2-list-h-22-funs-h-3-inp-10-10\\\" type=\\\"num\\\"><field name=\\\"nummer\\\">x</field></block></value></block></value><value name=\\\"args-3\\\"><block id=\\\"num3-funs-h-3-inp-10-10\\\" type=\\\"num\\\"><field name=\\\"nummer\\\">x</field></block></value></block></xml>\"\n",
    "Blockly.Xml.clearWorkspaceAndLoadFromXml(Blockly.utils.xml.textToDom(xs8), workspace8)\n",
    "</script>"
   ]
  },
  {
   "cell_type": "code",
   "execution_count": null,
   "id": "eca575e5-0f91-4ab6-8bab-ec56efbbc74e",
   "metadata": {},
   "outputs": [],
   "source": [
    "%%html\n",
    "<div id=\"blocklyDiv9\" style=\"height: 90%\"></div>\n",
    "<div></div><h1>2</h1><h1>3</h1>\n",
    "<script>\n",
    "var workspace9 = Blockly.inject('blocklyDiv9', {\"toolbox\": toolbox, \"sounds\": false});\n",
    "</script>"
   ]
  },
  {
   "cell_type": "code",
   "execution_count": null,
   "id": "e86ba35c-edb9-4912-9e1f-5ca141a07ad6",
   "metadata": {},
   "outputs": [],
   "source": [
    "%%scheme\n",
    "((D (log_base 8)) x)"
   ]
  },
  {
   "cell_type": "code",
   "execution_count": null,
   "id": "bda10695-04d3-4b06-b8f6-94d9fd8cd762",
   "metadata": {},
   "outputs": [],
   "source": [
    "%%html\n",
    "<script>\n",
    "var xs9 = \"<xml><block id=\\\"list-h-2-10-10\\\" type=\\\"list-h-2\\\" x=\\\"10\\\" y=\\\"10\\\"><value name=\\\"args-1\\\"><block id=\\\"funs-h-2-inp1-list-h-2-10-10\\\" type=\\\"funs-h-2-inp\\\"><field name=\\\"kopf\\\">D</field><value name=\\\"args-2\\\"><block id=\\\"funs-h-2-inp2-funs-h-2-inp1-list-h-2-10-10\\\" type=\\\"funs-h-2-inp\\\"><field name=\\\"kopf\\\">log_base</field><value name=\\\"args-2\\\"><block id=\\\"num2-funs-h-2-inp2-funs-h-2-inp1-list-h-2-10-10\\\" type=\\\"num\\\"><field name=\\\"nummer\\\">8</field></block></value></block></value></block></value><value name=\\\"args-2\\\"><block id=\\\"num2-list-h-2-10-10\\\" type=\\\"num\\\"><field name=\\\"nummer\\\">x</field></block></value></block></xml>\"\n",
    "Blockly.Xml.clearWorkspaceAndLoadFromXml(Blockly.utils.xml.textToDom(xs9), workspace9)\n",
    "</script>"
   ]
  },
  {
   "cell_type": "code",
   "execution_count": null,
   "id": "198bacf4-1e94-4fc1-9b19-4e7d931ca2ee",
   "metadata": {},
   "outputs": [],
   "source": [
    "%%scheme\n",
    "(D log_base)"
   ]
  },
  {
   "cell_type": "code",
   "execution_count": null,
   "id": "64aae888-0c11-486d-bcb2-c9e59bf044c6",
   "metadata": {
    "scrolled": true
   },
   "outputs": [],
   "source": [
    "diff(logarithm(base,x),x)"
   ]
  },
  {
   "cell_type": "code",
   "execution_count": null,
   "id": "921e668a-c592-4b7b-af2b-bfc25d2a3399",
   "metadata": {},
   "outputs": [],
   "source": [
    "try:\n",
    "    diff(log_base(base),base)\n",
    "except:\n",
    "    print(\"cannot do\")"
   ]
  },
  {
   "cell_type": "code",
   "execution_count": null,
   "id": "1493f755-462d-4d98-afe3-331484afbacf",
   "metadata": {},
   "outputs": [],
   "source": [
    "\n",
    "diff(log_base(8)(x),x)"
   ]
  },
  {
   "cell_type": "code",
   "execution_count": null,
   "id": "e7db9947-2f78-4ec7-a730-b06d18074c81",
   "metadata": {},
   "outputs": [],
   "source": [
    "%%hissp\n",
    "(def (num nummer)\n",
    " {:type :num :nummer nummer})"
   ]
  },
  {
   "cell_type": "code",
   "execution_count": null,
   "id": "86041857-9535-40ac-b5d4-b253e8a89632",
   "metadata": {},
   "outputs": [],
   "source": [
    "%%hissp\n",
    "(def (funx name argsvec)\n",
    "  {:type :fun :subtype \"funs-h\" :kopf name :argsvec argsvec})"
   ]
  },
  {
   "cell_type": "code",
   "execution_count": null,
   "id": "b3fbd0ec-5095-43ef-aec1-9d18f2dee79f",
   "metadata": {},
   "outputs": [],
   "source": [
    "funx(\"a\", \"b\")"
   ]
  },
  {
   "cell_type": "code",
   "execution_count": null,
   "id": "b0a5d596-0d04-49db-aef1-2652d06ee7a1",
   "metadata": {},
   "outputs": [],
   "source": [
    "def isTuple(t):\n",
    "    return isinstance(t, tuple)\n",
    "\n",
    "def first(coll):\n",
    "    return coll[0]\n",
    "\n",
    "def rest(coll):\n",
    "    return coll[1:]\n",
    "\n",
    "def map(f, coll):\n",
    "    return (tuple (f(e) for e in coll))\n",
    "\n",
    "def join_str(*strs):\n",
    "    return \"\".join(map(str, strs))\n",
    "\n",
    "def get(m, k):\n",
    "    if isinstance(m, dict):\n",
    "        if k in m:\n",
    "            return m[k]\n",
    "        else:\n",
    "            return None\n",
    "    else:\n",
    "        return m[k]\n",
    "\n",
    "def eq(a, b):\n",
    "    return a==b\n",
    "\n",
    "def inc(n):\n",
    "    return n+1\n",
    "\n",
    "def count(t):\n",
    "    return len(t)"
   ]
  },
  {
   "cell_type": "code",
   "execution_count": null,
   "id": "7f93ddb8-0266-4c12-91ea-8f16e570b818",
   "metadata": {},
   "outputs": [],
   "source": [
    "count(rest(map(str, (\"a\",\"b\",\"c\"))))"
   ]
  },
  {
   "cell_type": "code",
   "execution_count": null,
   "id": "9115f638-31c7-41ca-a63e-166bb423b807",
   "metadata": {},
   "outputs": [],
   "source": [
    "get({\"a\":1, \"b\":2}, \"b\")\n",
    "get((\"a\", 1, \"b\", 2), 0)"
   ]
  },
  {
   "cell_type": "code",
   "execution_count": null,
   "id": "8836d6ba-a0a2-4f92-b0ed-ab357dfdb2b9",
   "metadata": {},
   "outputs": [],
   "source": [
    "%%hissp\n",
    "(def (parse l)\n",
    "    (if-else (isTuple l)\n",
    "        (funx (first l) (map parse (rest l)))\n",
    "        (num l)))"
   ]
  },
  {
   "cell_type": "code",
   "execution_count": null,
   "id": "13215be0-6637-4eea-a5bd-5c8fa145c6fb",
   "metadata": {},
   "outputs": [],
   "source": [
    "%%hissp\n",
    "(get (get (parse [\"a\" \"1\"]) :argsvec) 0) "
   ]
  },
  {
   "cell_type": "code",
   "execution_count": null,
   "id": "301ccd03-f54c-41a3-a498-1e8dcd567ad8",
   "metadata": {},
   "outputs": [],
   "source": [
    "%%hissp\n",
    "(def (blockmap type givenid inline)\n",
    " {:type type :id (join_str type givenid) :inline (str inline)})"
   ]
  },
  {
   "cell_type": "code",
   "execution_count": null,
   "id": "4271d583-a873-4d84-b19f-3ce06d3ead0f",
   "metadata": {},
   "outputs": [],
   "source": [
    "%%hissp\n",
    "(def (gen m givenid)\n",
    "  (cond\n",
    "    (eq (get m :type) :num)\n",
    "    [:block (blockmap \"num\" givenid False) [:field {:name \"nummer\"} (get m :nummer)]]\n",
    "    (eq (get m :type) :fun)\n",
    "    (gen (get (get m :argsvec) 0) givenid)))"
   ]
  },
  {
   "cell_type": "code",
   "execution_count": null,
   "id": "dc9adb63-01d9-4795-ab89-b3a5cbfc6d84",
   "metadata": {},
   "outputs": [],
   "source": [
    "%%hissp\n",
    "(gen (parse [\"a\" \"1\"]) \"id\")"
   ]
  },
  {
   "cell_type": "code",
   "execution_count": null,
   "id": "be170770-8396-4fd9-b6f4-bf65ee547247",
   "metadata": {},
   "outputs": [],
   "source": [
    "%%hissp\n",
    "(def (genfun m givenid)\n",
    "  (let (xml_block_type (join_str (get m :subtype) \"-\" (inc (count (get m :argsvec))) \"-inp\"))\n",
    "    (let (bm (blockmap xml_block_type givenid (get m :inline)))\n",
    "      (let (id (get bm :id))\n",
    "        True))))"
   ]
  },
  {
   "cell_type": "code",
   "execution_count": null,
   "id": "6390995f-3309-4a81-93b4-e90754ed9b40",
   "metadata": {},
   "outputs": [],
   "source": [
    "%%hissp\n",
    "(genfun (parse [\"a\" \"1\"]) \"id\")"
   ]
  },
  {
   "cell_type": "code",
   "execution_count": null,
   "id": "9aa8aaae-1f62-4a36-8c6f-7527a2df35f8",
   "metadata": {},
   "outputs": [],
   "source": [
    "def pyfunction(x, base):\n",
    "    return log(x,base)"
   ]
  },
  {
   "cell_type": "code",
   "execution_count": null,
   "id": "476244f6-30fe-48c2-93fe-7e91b124911f",
   "metadata": {},
   "outputs": [],
   "source": [
    "pyfunction(64,8)"
   ]
  },
  {
   "cell_type": "code",
   "execution_count": null,
   "id": "05368c27-7a1f-452f-ac1d-0e6b2334d392",
   "metadata": {},
   "outputs": [],
   "source": [
    "def retrn (x):\n",
    "    return x"
   ]
  },
  {
   "cell_type": "code",
   "execution_count": null,
   "id": "dd3d0c31-5e4f-415d-91d2-6266c5173e55",
   "metadata": {},
   "outputs": [],
   "source": [
    "%%hissp\n",
    "(def (myfunction x base)\n",
    "     (retrn (log x base)))"
   ]
  },
  {
   "cell_type": "code",
   "execution_count": null,
   "id": "f57b929f-a5df-4117-a75a-772d2b728c43",
   "metadata": {},
   "outputs": [],
   "source": [
    "myfunction(64,8)"
   ]
  },
  {
   "cell_type": "code",
   "execution_count": null,
   "id": "6c65b293-cceb-4b4f-bc42-f39e0c71fcb1",
   "metadata": {},
   "outputs": [],
   "source": [
    "%%html\n",
    "<div id=\"blocklyDiv20\" style=\"height: 90%\"></div>\n",
    "<div>Footer</div><h1>2</h1><h1>3</h1>\n",
    "<script>\n",
    "var workspace3 = Blockly.inject('blocklyDiv20', {\"toolbox\": toolbox, \"sounds\": false});\n",
    "</script>"
   ]
  },
  {
   "cell_type": "code",
   "execution_count": null,
   "id": "a3f964a8-ac19-4f67-b927-ae7a261af8e4",
   "metadata": {},
   "outputs": [],
   "source": [
    "%%html\n",
    "<script>\n",
    "var xs20 = \"<xml><block id=\\\"funs-h-3-inpid1\\\" inline=\\\"false\\\" type=\\\"funs-h-3-inp\\\"><field name=\\\"kopf\\\">def</field><value name=\\\"args-2\\\"><block id=\\\"funs-h-3-inp2-funs-h-3-inpid1\\\" type=\\\"funs-h-3-inp\\\"><field name=\\\"kopf\\\">myfunction</field><value name=\\\"args-2\\\"><block id=\\\"num2-funs-h-3-inp2-funs-h-3-inpid1\\\" type=\\\"num\\\"><field name=\\\"nummer\\\">x</field></block></value><value name=\\\"args-3\\\"><block id=\\\"num3-funs-h-3-inp2-funs-h-3-inpid1\\\" type=\\\"num\\\"><field name=\\\"nummer\\\">base</field></block></value></block></value><value name=\\\"args-3\\\"><block id=\\\"funs-h-2-inp3-funs-h-3-inpid1\\\" type=\\\"funs-h-2-inp\\\"><field name=\\\"kopf\\\">return</field><value name=\\\"args-2\\\"><block id=\\\"funs-h-3-inp2-funs-h-2-inp3-funs-h-3-inpid1\\\" type=\\\"funs-h-3-inp\\\"><field name=\\\"kopf\\\">log</field><value name=\\\"args-2\\\"><block id=\\\"num2-funs-h-3-inp2-funs-h-2-inp3-funs-h-3-inpid1\\\" type=\\\"num\\\"><field name=\\\"nummer\\\">x</field></block></value><value name=\\\"args-3\\\"><block id=\\\"num3-funs-h-3-inp2-funs-h-2-inp3-funs-h-3-inpid1\\\" type=\\\"num\\\"><field name=\\\"nummer\\\">base</field></block></value></block></value></block></value></block></xml>\"\n",
    "var xmlDom20 = Blockly.utils.xml.textToDom(xs20);\n",
    "Blockly.Xml.clearWorkspaceAndLoadFromXml(xmlDom20, workspace3)\n",
    "</script>"
   ]
  },
  {
   "cell_type": "code",
   "execution_count": null,
   "id": "25f52f75-7254-4335-af1b-57ef0f165527",
   "metadata": {},
   "outputs": [],
   "source": []
  }
 ],
 "metadata": {
  "kernelspec": {
   "display_name": "Python 3 (ipykernel)",
   "language": "python",
   "name": "python3"
  },
  "language_info": {
   "codemirror_mode": {
    "name": "ipython",
    "version": 3
   },
   "file_extension": ".py",
   "mimetype": "text/x-python",
   "name": "python",
   "nbconvert_exporter": "python",
   "pygments_lexer": "ipython3",
   "version": "3.13.3"
  }
 },
 "nbformat": 4,
 "nbformat_minor": 5
}
